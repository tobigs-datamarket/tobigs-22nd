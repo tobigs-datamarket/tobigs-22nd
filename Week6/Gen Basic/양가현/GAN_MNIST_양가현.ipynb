{
  "cells": [
    {
      "cell_type": "markdown",
      "source": [
        "#1-1\n",
        "\n",
        "MNIST 데이터셋을 사용하여 간단한 GAN을 구현한 코드입니다.\n",
        "\n",
        "코드를 실행시키고, 주석을 달아주세요."
      ],
      "metadata": {
        "id": "PRlb757-wpKb"
      }
    },
    {
      "cell_type": "code",
      "source": [
        "import os\n",
        "import torch\n",
        "import torch.nn as nn\n",
        "import torch.optim as optim\n",
        "import torchvision\n",
        "from torchvision import datasets, transforms\n",
        "from torchvision.utils import save_image\n"
      ],
      "metadata": {
        "id": "2a96QRuEwV-c"
      },
      "execution_count": 1,
      "outputs": []
    },
    {
      "cell_type": "code",
      "source": [
        "num_epochs = 10\n",
        "batch_size = 100\n",
        "learning_rate = 0.0002\n",
        "img_size = 28 * 28\n",
        "noise_size = 100\n",
        "hidden_size1 = 256\n",
        "hidden_size2 = 512\n",
        "hidden_size3 = 1024\n",
        "dir_name = \"GAN_results\"\n",
        "\n",
        "device = torch.device('cuda' if torch.cuda.is_available() else 'cpu')\n",
        "\n",
        "if not os.path.exists(dir_name):\n",
        "    os.makedirs(dir_name)\n",
        "\n",
        "transform = transforms.Compose([\n",
        "    transforms.ToTensor(),\n",
        "    transforms.Normalize([0.5], [0.5])\n",
        "])\n",
        "\n",
        "MNIST_dataset = datasets.MNIST(root='../../data/',\n",
        "                               train=True,\n",
        "                               transform=transform,\n",
        "                               download=True)\n",
        "\n",
        "data_loader = torch.utils.data.DataLoader(dataset=MNIST_dataset,\n",
        "                                          batch_size=batch_size,\n",
        "                                          shuffle=True)"
      ],
      "metadata": {
        "id": "_D5vGGkTwXFQ"
      },
      "execution_count": 5,
      "outputs": []
    },
    {
      "cell_type": "code",
      "source": [
        "class Discriminator(nn.Module):\n",
        "    def __init__(self):\n",
        "        super(Discriminator, self).__init__()\n",
        "        self.model = nn.Sequential(\n",
        "            nn.Linear(img_size, hidden_size3),\n",
        "            nn.LeakyReLU(0.2),\n",
        "            nn.Linear(hidden_size3, hidden_size2),\n",
        "            nn.LeakyReLU(0.2),\n",
        "            nn.Linear(hidden_size2, hidden_size1),\n",
        "            nn.LeakyReLU(0.2),\n",
        "            nn.Linear(hidden_size1, 1),\n",
        "            nn.Sigmoid()\n",
        "        )\n",
        "\n",
        "    def forward(self, x):\n",
        "        return self.model(x)\n",
        "\n",
        "class Generator(nn.Module):\n",
        "    def __init__(self):\n",
        "        super(Generator, self).__init__()\n",
        "        self.model = nn.Sequential(\n",
        "            nn.Linear(noise_size, hidden_size1),\n",
        "            nn.ReLU(),\n",
        "            nn.Linear(hidden_size1, hidden_size2),\n",
        "            nn.ReLU(),\n",
        "            nn.Linear(hidden_size2, hidden_size3),\n",
        "            nn.ReLU(),\n",
        "            nn.Linear(hidden_size3, img_size),\n",
        "            nn.Tanh()\n",
        "        )\n",
        "\n",
        "    def forward(self, x):\n",
        "        return self.model(x)\n",
        "\n",
        "discriminator = Discriminator().to(device)\n",
        "generator = Generator().to(device)\n",
        "\n",
        "criterion = nn.BCELoss()\n",
        "d_optimizer = optim.Adam(discriminator.parameters(), lr=learning_rate)\n",
        "g_optimizer = optim.Adam(generator.parameters(), lr=learning_rate)\n"
      ],
      "metadata": {
        "id": "BzKto3wuv_Mk"
      },
      "execution_count": 6,
      "outputs": []
    },
    {
      "cell_type": "code",
      "source": [
        "for epoch in range(num_epochs):\n",
        "    for i, (images, _) in enumerate(data_loader):\n",
        "        real_labels = torch.ones(batch_size, 1).to(device)\n",
        "        fake_labels = torch.zeros(batch_size, 1).to(device)\n",
        "\n",
        "        real_images = images.reshape(batch_size, -1).to(device)\n",
        "\n",
        "        g_optimizer.zero_grad()\n",
        "\n",
        "        z = torch.randn(batch_size, noise_size).to(device)\n",
        "        fake_images = generator(z)\n",
        "\n",
        "        g_loss = criterion(discriminator(fake_images), real_labels)\n",
        "        g_loss.backward()\n",
        "        g_optimizer.step()\n",
        "\n",
        "        d_optimizer.zero_grad()\n",
        "\n",
        "        z = torch.randn(batch_size, noise_size).to(device)\n",
        "        fake_images = generator(z)\n",
        "\n",
        "        real_loss = criterion(discriminator(real_images), real_labels)\n",
        "        fake_loss = criterion(discriminator(fake_images.detach()), fake_labels)\n",
        "        d_loss = (real_loss + fake_loss) / 2\n",
        "\n",
        "        d_loss.backward()\n",
        "        d_optimizer.step()\n",
        "\n",
        "        if (i + 1) % 150 == 0:\n",
        "            print(f\"Epoch [{epoch + 1}/{num_epochs}], Step [{i + 1}/{len(data_loader)}], \"\n",
        "                  f\"D Loss: {d_loss.item():.4f}, G Loss: {g_loss.item():.4f}\")\n",
        "\n",
        "    save_image(fake_images.view(batch_size, 1, 28, 28),\n",
        "               os.path.join(dir_name, f'GAN_fake_image_{epoch + 1}.png'))\n",
        "\n",
        "    d_performance = discriminator(real_images).mean().item()\n",
        "    g_performance = discriminator(fake_images).mean().item()\n",
        "    print(f\"---------Epoch [{epoch + 1}/{num_epochs}] : D Performance: {d_performance:.2f}, G Performance: {g_performance:.2f}\")"
      ],
      "metadata": {
        "id": "VwZVMuXawdQx",
        "colab": {
          "base_uri": "https://localhost:8080/"
        },
        "outputId": "5e9a47a6-b96f-404a-840b-6e12a4503b92"
      },
      "execution_count": 7,
      "outputs": [
        {
          "output_type": "stream",
          "name": "stdout",
          "text": [
            "Epoch [1/10], Step [150/600], D Loss: 0.0258, G Loss: 3.6775\n",
            "Epoch [1/10], Step [300/600], D Loss: 0.0450, G Loss: 12.9928\n",
            "Epoch [1/10], Step [450/600], D Loss: 0.0083, G Loss: 6.9186\n",
            "Epoch [1/10], Step [600/600], D Loss: 0.0080, G Loss: 11.9610\n",
            "---------Epoch [1/10] : D Performance: 1.00, G Performance: 0.00\n",
            "Epoch [2/10], Step [150/600], D Loss: 0.0289, G Loss: 12.0795\n",
            "Epoch [2/10], Step [300/600], D Loss: 0.0258, G Loss: 12.3370\n",
            "Epoch [2/10], Step [450/600], D Loss: 0.0072, G Loss: 6.9211\n",
            "Epoch [2/10], Step [600/600], D Loss: 0.0065, G Loss: 10.8857\n",
            "---------Epoch [2/10] : D Performance: 0.99, G Performance: 0.00\n",
            "Epoch [3/10], Step [150/600], D Loss: 0.0107, G Loss: 12.2961\n",
            "Epoch [3/10], Step [300/600], D Loss: 0.1075, G Loss: 17.3145\n",
            "Epoch [3/10], Step [450/600], D Loss: 0.4564, G Loss: 10.5671\n",
            "Epoch [3/10], Step [600/600], D Loss: 0.1781, G Loss: 13.4794\n",
            "---------Epoch [3/10] : D Performance: 0.89, G Performance: 0.01\n",
            "Epoch [4/10], Step [150/600], D Loss: 0.3307, G Loss: 14.3609\n",
            "Epoch [4/10], Step [300/600], D Loss: 0.2964, G Loss: 3.5655\n",
            "Epoch [4/10], Step [450/600], D Loss: 0.0460, G Loss: 8.5420\n",
            "Epoch [4/10], Step [600/600], D Loss: 0.3022, G Loss: 4.7129\n",
            "---------Epoch [4/10] : D Performance: 0.85, G Performance: 0.03\n",
            "Epoch [5/10], Step [150/600], D Loss: 0.3189, G Loss: 3.1377\n",
            "Epoch [5/10], Step [300/600], D Loss: 0.1121, G Loss: 7.2987\n",
            "Epoch [5/10], Step [450/600], D Loss: 0.0622, G Loss: 5.0690\n",
            "Epoch [5/10], Step [600/600], D Loss: 0.1719, G Loss: 6.5044\n",
            "---------Epoch [5/10] : D Performance: 0.96, G Performance: 0.03\n",
            "Epoch [6/10], Step [150/600], D Loss: 0.0548, G Loss: 7.8224\n",
            "Epoch [6/10], Step [300/600], D Loss: 0.8908, G Loss: 18.1364\n",
            "Epoch [6/10], Step [450/600], D Loss: 0.0542, G Loss: 5.7335\n",
            "Epoch [6/10], Step [600/600], D Loss: 0.0654, G Loss: 5.1013\n",
            "---------Epoch [6/10] : D Performance: 0.97, G Performance: 0.03\n",
            "Epoch [7/10], Step [150/600], D Loss: 0.0135, G Loss: 5.1506\n",
            "Epoch [7/10], Step [300/600], D Loss: 0.1319, G Loss: 5.8749\n",
            "Epoch [7/10], Step [450/600], D Loss: 0.1725, G Loss: 5.9577\n",
            "Epoch [7/10], Step [600/600], D Loss: 0.0502, G Loss: 7.4908\n",
            "---------Epoch [7/10] : D Performance: 0.98, G Performance: 0.00\n",
            "Epoch [8/10], Step [150/600], D Loss: 0.1532, G Loss: 6.2399\n",
            "Epoch [8/10], Step [300/600], D Loss: 0.2028, G Loss: 7.9273\n",
            "Epoch [8/10], Step [450/600], D Loss: 0.2316, G Loss: 13.3452\n",
            "Epoch [8/10], Step [600/600], D Loss: 0.0231, G Loss: 6.3187\n",
            "---------Epoch [8/10] : D Performance: 0.98, G Performance: 0.00\n",
            "Epoch [9/10], Step [150/600], D Loss: 0.2284, G Loss: 12.6418\n",
            "Epoch [9/10], Step [300/600], D Loss: 0.1043, G Loss: 6.7268\n",
            "Epoch [9/10], Step [450/600], D Loss: 0.0604, G Loss: 6.2864\n",
            "Epoch [9/10], Step [600/600], D Loss: 0.0990, G Loss: 10.5741\n",
            "---------Epoch [9/10] : D Performance: 0.95, G Performance: 0.00\n",
            "Epoch [10/10], Step [150/600], D Loss: 0.0412, G Loss: 6.9449\n",
            "Epoch [10/10], Step [300/600], D Loss: 0.0623, G Loss: 6.5365\n",
            "Epoch [10/10], Step [450/600], D Loss: 0.1585, G Loss: 6.0970\n",
            "Epoch [10/10], Step [600/600], D Loss: 0.0772, G Loss: 6.0700\n",
            "---------Epoch [10/10] : D Performance: 0.94, G Performance: 0.02\n"
          ]
        }
      ]
    },
    {
      "cell_type": "markdown",
      "source": [
        "#1-2\n",
        "\n",
        "아래 마크다운으로 GAN_fake_image_1.png와 GAN_fake_image_100.png를 함께 첨부해주세요."
      ],
      "metadata": {
        "id": "bYFHDcSxw8qo"
      }
    },
    {
      "cell_type": "markdown",
      "source": [
        "![](https://drive.google.com/uc?export=view&id=1NpBiXBbD4o-GtBlhT8LuDzQ5_DRg1aDV)"
      ],
      "metadata": {
        "id": "TAlVax_CwhKJ"
      }
    },
    {
      "cell_type": "markdown",
      "source": [
        "\n",
        "\n",
        "![](https://drive.google.com/uc?export=view&id=1huNza8yAc2hp2WpCRSdpKHQ5aRfLjCF9)"
      ],
      "metadata": {
        "id": "cM_HsCh3w19r"
      }
    },
    {
      "cell_type": "code",
      "source": [
        "#실행이 너무 느려서 10번밖에 돌리지 못했습니다 ㅠㅠ"
      ],
      "metadata": {
        "id": "BAjk30K8xIvv"
      },
      "execution_count": null,
      "outputs": []
    }
  ],
  "metadata": {
    "colab": {
      "provenance": []
    },
    "kernelspec": {
      "display_name": "Python 3",
      "name": "python3"
    },
    "language_info": {
      "name": "python"
    }
  },
  "nbformat": 4,
  "nbformat_minor": 0
}