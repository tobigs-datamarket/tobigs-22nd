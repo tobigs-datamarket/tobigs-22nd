{
 "nbformat": 4,
 "nbformat_minor": 0,
 "metadata": {
  "colab": {
   "provenance": [],
   "toc_visible": true
  },
  "kernelspec": {
   "name": "python3",
   "display_name": "Python 3 (ipykernel)",
   "language": "python"
  },
  "language_info": {
   "name": "python"
  }
 },
 "cells": [
  {
   "cell_type": "markdown",
   "source": [
    "# ⭐**어서오세요 여러분**⭐\n",
    "## 투빅스 추천시스템 교실에 오신 것을 환영합니다\n",
    "\n",
    "## 22기 정규세션의 마지막 과제는 바로 **Collaborative Filtering**과 **Matrix Factorization**를 직접 구현해보고 익히는 시간을 가져보도록 하겠습니다.\n",
    "<br>\n",
    "\n",
    "## 모든 과제는 코드의 빈 부분을 채우는 과제입니다.\n",
    "<br>\n",
    "\n",
    "## 여러분도 아시다시피 저희 21기는 22기 분들께서 하신 과제를 직접 채점하고, 검증하여 우수 과제자를 뽑게됩니다. 저는 추가로 아래 과제를 완벽하게 구현하신 분께 소정의 선물을 드리도록 하겠습니다🎁\n",
    "<br>\n",
    "\n",
    "# 완벽하게 구현하신 분께는 💄**올리브영 상품권** 혹은 ☕️**스타벅스 기프티콘**을 드리도록 하겠습니다👍(소정ㅎㅎ...)\n",
    "<br>\n",
    "\n",
    "# 그러니, 즐겁게 과제에 임해주시면 감사하겠습니다🙇‍♂️"
   ],
   "metadata": {
    "id": "u_vyyYnDAFCR"
   }
  },
  {
   "cell_type": "markdown",
   "source": [
    "## **Data**"
   ],
   "metadata": {
    "id": "EN7kZ1qeDIW1"
   }
  },
  {
   "cell_type": "markdown",
   "source": [
    "### MovieLens Data\n",
    "- 이 데이터는 총 3가지의 파일로 구성됩니다.\n",
    "  > 사용자 데이터 : u.user\n",
    "  >\n",
    "  > 영화에 대한 데이터 : u.item\n",
    "  >\n",
    "  > 영화 평가에 대한 데이터 : u.data"
   ],
   "metadata": {
    "id": "WQPgTXKrDRqq"
   }
  },
  {
   "cell_type": "code",
   "metadata": {
    "colab": {
     "base_uri": "https://localhost:8080/",
     "height": 237
    },
    "id": "Ap81_Gpc_knt",
    "outputId": "50c64855-75d5-4cc6-bf89-75d51b7adc06",
    "ExecuteTime": {
     "end_time": "2024-10-08T01:53:22.602901Z",
     "start_time": "2024-10-08T01:53:22.129248Z"
    }
   },
   "source": [
    "import os\n",
    "import pandas as pd\n",
    "\n",
    "# user 데이터\n",
    "base_dir = \"Rec_data\"\n",
    "u_user_path = os.path.join(base_dir, \"u.user\")\n",
    "u_cols = ['user_id', 'age', 'sex', 'occupation', 'zip_code']\n",
    "users = pd.read_csv(u_user_path,\n",
    "                    sep='|',\n",
    "                    names=u_cols,\n",
    "                    encoding='latin-1'\n",
    "                    )\n",
    "users = users.set_index('user_id')\n",
    "users.head()"
   ],
   "outputs": [
    {
     "data": {
      "text/plain": [
       "         age sex  occupation zip_code\n",
       "user_id                              \n",
       "1         24   M  technician    85711\n",
       "2         53   F       other    94043\n",
       "3         23   M      writer    32067\n",
       "4         24   M  technician    43537\n",
       "5         33   F       other    15213"
      ],
      "text/html": [
       "<div>\n",
       "<style scoped>\n",
       "    .dataframe tbody tr th:only-of-type {\n",
       "        vertical-align: middle;\n",
       "    }\n",
       "\n",
       "    .dataframe tbody tr th {\n",
       "        vertical-align: top;\n",
       "    }\n",
       "\n",
       "    .dataframe thead th {\n",
       "        text-align: right;\n",
       "    }\n",
       "</style>\n",
       "<table border=\"1\" class=\"dataframe\">\n",
       "  <thead>\n",
       "    <tr style=\"text-align: right;\">\n",
       "      <th></th>\n",
       "      <th>age</th>\n",
       "      <th>sex</th>\n",
       "      <th>occupation</th>\n",
       "      <th>zip_code</th>\n",
       "    </tr>\n",
       "    <tr>\n",
       "      <th>user_id</th>\n",
       "      <th></th>\n",
       "      <th></th>\n",
       "      <th></th>\n",
       "      <th></th>\n",
       "    </tr>\n",
       "  </thead>\n",
       "  <tbody>\n",
       "    <tr>\n",
       "      <th>1</th>\n",
       "      <td>24</td>\n",
       "      <td>M</td>\n",
       "      <td>technician</td>\n",
       "      <td>85711</td>\n",
       "    </tr>\n",
       "    <tr>\n",
       "      <th>2</th>\n",
       "      <td>53</td>\n",
       "      <td>F</td>\n",
       "      <td>other</td>\n",
       "      <td>94043</td>\n",
       "    </tr>\n",
       "    <tr>\n",
       "      <th>3</th>\n",
       "      <td>23</td>\n",
       "      <td>M</td>\n",
       "      <td>writer</td>\n",
       "      <td>32067</td>\n",
       "    </tr>\n",
       "    <tr>\n",
       "      <th>4</th>\n",
       "      <td>24</td>\n",
       "      <td>M</td>\n",
       "      <td>technician</td>\n",
       "      <td>43537</td>\n",
       "    </tr>\n",
       "    <tr>\n",
       "      <th>5</th>\n",
       "      <td>33</td>\n",
       "      <td>F</td>\n",
       "      <td>other</td>\n",
       "      <td>15213</td>\n",
       "    </tr>\n",
       "  </tbody>\n",
       "</table>\n",
       "</div>"
      ]
     },
     "execution_count": 1,
     "metadata": {},
     "output_type": "execute_result"
    }
   ],
   "execution_count": 1
  },
  {
   "cell_type": "code",
   "source": [
    "# item 데이터\n",
    "u_item_path = os.path.join(base_dir, \"u.item\")\n",
    "i_cols = ['movie_id', 'title', 'release date', 'video release date',\n",
    "          'IMDb URL', 'unknown', 'Action', 'Adventure', 'Animation',\n",
    "          'Children\\'s', 'Comedy', 'Crime', 'Documentary', 'Drama', 'Fantasy',\n",
    "          'Film-Noir', 'Horror', 'Musical', 'Mystery', 'Romance', 'Sci-Fi',\n",
    "          'Thriller', 'War', 'Western']\n",
    "movies = pd.read_csv(u_item_path,\n",
    "                    sep='|',\n",
    "                    names=i_cols,\n",
    "                    encoding='latin-1'\n",
    "                    )\n",
    "movies = movies.set_index('movie_id')\n",
    "movies.head()"
   ],
   "metadata": {
    "colab": {
     "base_uri": "https://localhost:8080/",
     "height": 443
    },
    "id": "UseQpSn-GpfU",
    "outputId": "89e1b625-a2c3-45ac-be83-33044b74b057",
    "ExecuteTime": {
     "end_time": "2024-10-08T01:53:24.701400Z",
     "start_time": "2024-10-08T01:53:24.685962Z"
    }
   },
   "outputs": [
    {
     "data": {
      "text/plain": [
       "                      title release date  video release date  \\\n",
       "movie_id                                                       \n",
       "1          Toy Story (1995)  01-Jan-1995                 NaN   \n",
       "2          GoldenEye (1995)  01-Jan-1995                 NaN   \n",
       "3         Four Rooms (1995)  01-Jan-1995                 NaN   \n",
       "4         Get Shorty (1995)  01-Jan-1995                 NaN   \n",
       "5            Copycat (1995)  01-Jan-1995                 NaN   \n",
       "\n",
       "                                                   IMDb URL  unknown  Action  \\\n",
       "movie_id                                                                       \n",
       "1         http://us.imdb.com/M/title-exact?Toy%20Story%2...        0       0   \n",
       "2         http://us.imdb.com/M/title-exact?GoldenEye%20(...        0       1   \n",
       "3         http://us.imdb.com/M/title-exact?Four%20Rooms%...        0       0   \n",
       "4         http://us.imdb.com/M/title-exact?Get%20Shorty%...        0       1   \n",
       "5         http://us.imdb.com/M/title-exact?Copycat%20(1995)        0       0   \n",
       "\n",
       "          Adventure  Animation  Children's  Comedy  ...  Fantasy  Film-Noir  \\\n",
       "movie_id                                            ...                       \n",
       "1                 0          1           1       1  ...        0          0   \n",
       "2                 1          0           0       0  ...        0          0   \n",
       "3                 0          0           0       0  ...        0          0   \n",
       "4                 0          0           0       1  ...        0          0   \n",
       "5                 0          0           0       0  ...        0          0   \n",
       "\n",
       "          Horror  Musical  Mystery  Romance  Sci-Fi  Thriller  War  Western  \n",
       "movie_id                                                                     \n",
       "1              0        0        0        0       0         0    0        0  \n",
       "2              0        0        0        0       0         1    0        0  \n",
       "3              0        0        0        0       0         1    0        0  \n",
       "4              0        0        0        0       0         0    0        0  \n",
       "5              0        0        0        0       0         1    0        0  \n",
       "\n",
       "[5 rows x 23 columns]"
      ],
      "text/html": [
       "<div>\n",
       "<style scoped>\n",
       "    .dataframe tbody tr th:only-of-type {\n",
       "        vertical-align: middle;\n",
       "    }\n",
       "\n",
       "    .dataframe tbody tr th {\n",
       "        vertical-align: top;\n",
       "    }\n",
       "\n",
       "    .dataframe thead th {\n",
       "        text-align: right;\n",
       "    }\n",
       "</style>\n",
       "<table border=\"1\" class=\"dataframe\">\n",
       "  <thead>\n",
       "    <tr style=\"text-align: right;\">\n",
       "      <th></th>\n",
       "      <th>title</th>\n",
       "      <th>release date</th>\n",
       "      <th>video release date</th>\n",
       "      <th>IMDb URL</th>\n",
       "      <th>unknown</th>\n",
       "      <th>Action</th>\n",
       "      <th>Adventure</th>\n",
       "      <th>Animation</th>\n",
       "      <th>Children's</th>\n",
       "      <th>Comedy</th>\n",
       "      <th>...</th>\n",
       "      <th>Fantasy</th>\n",
       "      <th>Film-Noir</th>\n",
       "      <th>Horror</th>\n",
       "      <th>Musical</th>\n",
       "      <th>Mystery</th>\n",
       "      <th>Romance</th>\n",
       "      <th>Sci-Fi</th>\n",
       "      <th>Thriller</th>\n",
       "      <th>War</th>\n",
       "      <th>Western</th>\n",
       "    </tr>\n",
       "    <tr>\n",
       "      <th>movie_id</th>\n",
       "      <th></th>\n",
       "      <th></th>\n",
       "      <th></th>\n",
       "      <th></th>\n",
       "      <th></th>\n",
       "      <th></th>\n",
       "      <th></th>\n",
       "      <th></th>\n",
       "      <th></th>\n",
       "      <th></th>\n",
       "      <th></th>\n",
       "      <th></th>\n",
       "      <th></th>\n",
       "      <th></th>\n",
       "      <th></th>\n",
       "      <th></th>\n",
       "      <th></th>\n",
       "      <th></th>\n",
       "      <th></th>\n",
       "      <th></th>\n",
       "      <th></th>\n",
       "    </tr>\n",
       "  </thead>\n",
       "  <tbody>\n",
       "    <tr>\n",
       "      <th>1</th>\n",
       "      <td>Toy Story (1995)</td>\n",
       "      <td>01-Jan-1995</td>\n",
       "      <td>NaN</td>\n",
       "      <td>http://us.imdb.com/M/title-exact?Toy%20Story%2...</td>\n",
       "      <td>0</td>\n",
       "      <td>0</td>\n",
       "      <td>0</td>\n",
       "      <td>1</td>\n",
       "      <td>1</td>\n",
       "      <td>1</td>\n",
       "      <td>...</td>\n",
       "      <td>0</td>\n",
       "      <td>0</td>\n",
       "      <td>0</td>\n",
       "      <td>0</td>\n",
       "      <td>0</td>\n",
       "      <td>0</td>\n",
       "      <td>0</td>\n",
       "      <td>0</td>\n",
       "      <td>0</td>\n",
       "      <td>0</td>\n",
       "    </tr>\n",
       "    <tr>\n",
       "      <th>2</th>\n",
       "      <td>GoldenEye (1995)</td>\n",
       "      <td>01-Jan-1995</td>\n",
       "      <td>NaN</td>\n",
       "      <td>http://us.imdb.com/M/title-exact?GoldenEye%20(...</td>\n",
       "      <td>0</td>\n",
       "      <td>1</td>\n",
       "      <td>1</td>\n",
       "      <td>0</td>\n",
       "      <td>0</td>\n",
       "      <td>0</td>\n",
       "      <td>...</td>\n",
       "      <td>0</td>\n",
       "      <td>0</td>\n",
       "      <td>0</td>\n",
       "      <td>0</td>\n",
       "      <td>0</td>\n",
       "      <td>0</td>\n",
       "      <td>0</td>\n",
       "      <td>1</td>\n",
       "      <td>0</td>\n",
       "      <td>0</td>\n",
       "    </tr>\n",
       "    <tr>\n",
       "      <th>3</th>\n",
       "      <td>Four Rooms (1995)</td>\n",
       "      <td>01-Jan-1995</td>\n",
       "      <td>NaN</td>\n",
       "      <td>http://us.imdb.com/M/title-exact?Four%20Rooms%...</td>\n",
       "      <td>0</td>\n",
       "      <td>0</td>\n",
       "      <td>0</td>\n",
       "      <td>0</td>\n",
       "      <td>0</td>\n",
       "      <td>0</td>\n",
       "      <td>...</td>\n",
       "      <td>0</td>\n",
       "      <td>0</td>\n",
       "      <td>0</td>\n",
       "      <td>0</td>\n",
       "      <td>0</td>\n",
       "      <td>0</td>\n",
       "      <td>0</td>\n",
       "      <td>1</td>\n",
       "      <td>0</td>\n",
       "      <td>0</td>\n",
       "    </tr>\n",
       "    <tr>\n",
       "      <th>4</th>\n",
       "      <td>Get Shorty (1995)</td>\n",
       "      <td>01-Jan-1995</td>\n",
       "      <td>NaN</td>\n",
       "      <td>http://us.imdb.com/M/title-exact?Get%20Shorty%...</td>\n",
       "      <td>0</td>\n",
       "      <td>1</td>\n",
       "      <td>0</td>\n",
       "      <td>0</td>\n",
       "      <td>0</td>\n",
       "      <td>1</td>\n",
       "      <td>...</td>\n",
       "      <td>0</td>\n",
       "      <td>0</td>\n",
       "      <td>0</td>\n",
       "      <td>0</td>\n",
       "      <td>0</td>\n",
       "      <td>0</td>\n",
       "      <td>0</td>\n",
       "      <td>0</td>\n",
       "      <td>0</td>\n",
       "      <td>0</td>\n",
       "    </tr>\n",
       "    <tr>\n",
       "      <th>5</th>\n",
       "      <td>Copycat (1995)</td>\n",
       "      <td>01-Jan-1995</td>\n",
       "      <td>NaN</td>\n",
       "      <td>http://us.imdb.com/M/title-exact?Copycat%20(1995)</td>\n",
       "      <td>0</td>\n",
       "      <td>0</td>\n",
       "      <td>0</td>\n",
       "      <td>0</td>\n",
       "      <td>0</td>\n",
       "      <td>0</td>\n",
       "      <td>...</td>\n",
       "      <td>0</td>\n",
       "      <td>0</td>\n",
       "      <td>0</td>\n",
       "      <td>0</td>\n",
       "      <td>0</td>\n",
       "      <td>0</td>\n",
       "      <td>0</td>\n",
       "      <td>1</td>\n",
       "      <td>0</td>\n",
       "      <td>0</td>\n",
       "    </tr>\n",
       "  </tbody>\n",
       "</table>\n",
       "<p>5 rows × 23 columns</p>\n",
       "</div>"
      ]
     },
     "execution_count": 2,
     "metadata": {},
     "output_type": "execute_result"
    }
   ],
   "execution_count": 2
  },
  {
   "cell_type": "code",
   "source": [
    "#rating Data\n",
    "u_data_path = os.path.join(base_dir, \"u.data\")\n",
    "r_cols = ['user_id', 'movie_id', 'rating', 'timestamp']\n",
    "ratings = pd.read_csv(u_data_path,\n",
    "                    sep='\\t',\n",
    "                    names=r_cols,\n",
    "                    encoding='latin-1'\n",
    "                    )\n",
    "ratings.head()"
   ],
   "metadata": {
    "colab": {
     "base_uri": "https://localhost:8080/",
     "height": 206
    },
    "id": "oYNNAKGuHee5",
    "outputId": "0acfd549-76cb-46e9-8d7c-3d52ed884b0e",
    "ExecuteTime": {
     "end_time": "2024-10-08T01:53:26.579205Z",
     "start_time": "2024-10-08T01:53:26.551097Z"
    }
   },
   "outputs": [
    {
     "data": {
      "text/plain": [
       "   user_id  movie_id  rating  timestamp\n",
       "0      196       242       3  881250949\n",
       "1      186       302       3  891717742\n",
       "2       22       377       1  878887116\n",
       "3      244        51       2  880606923\n",
       "4      166       346       1  886397596"
      ],
      "text/html": [
       "<div>\n",
       "<style scoped>\n",
       "    .dataframe tbody tr th:only-of-type {\n",
       "        vertical-align: middle;\n",
       "    }\n",
       "\n",
       "    .dataframe tbody tr th {\n",
       "        vertical-align: top;\n",
       "    }\n",
       "\n",
       "    .dataframe thead th {\n",
       "        text-align: right;\n",
       "    }\n",
       "</style>\n",
       "<table border=\"1\" class=\"dataframe\">\n",
       "  <thead>\n",
       "    <tr style=\"text-align: right;\">\n",
       "      <th></th>\n",
       "      <th>user_id</th>\n",
       "      <th>movie_id</th>\n",
       "      <th>rating</th>\n",
       "      <th>timestamp</th>\n",
       "    </tr>\n",
       "  </thead>\n",
       "  <tbody>\n",
       "    <tr>\n",
       "      <th>0</th>\n",
       "      <td>196</td>\n",
       "      <td>242</td>\n",
       "      <td>3</td>\n",
       "      <td>881250949</td>\n",
       "    </tr>\n",
       "    <tr>\n",
       "      <th>1</th>\n",
       "      <td>186</td>\n",
       "      <td>302</td>\n",
       "      <td>3</td>\n",
       "      <td>891717742</td>\n",
       "    </tr>\n",
       "    <tr>\n",
       "      <th>2</th>\n",
       "      <td>22</td>\n",
       "      <td>377</td>\n",
       "      <td>1</td>\n",
       "      <td>878887116</td>\n",
       "    </tr>\n",
       "    <tr>\n",
       "      <th>3</th>\n",
       "      <td>244</td>\n",
       "      <td>51</td>\n",
       "      <td>2</td>\n",
       "      <td>880606923</td>\n",
       "    </tr>\n",
       "    <tr>\n",
       "      <th>4</th>\n",
       "      <td>166</td>\n",
       "      <td>346</td>\n",
       "      <td>1</td>\n",
       "      <td>886397596</td>\n",
       "    </tr>\n",
       "  </tbody>\n",
       "</table>\n",
       "</div>"
      ]
     },
     "execution_count": 3,
     "metadata": {},
     "output_type": "execute_result"
    }
   ],
   "execution_count": 3
  },
  {
   "cell_type": "code",
   "source": [
    "import numpy as np\n",
    "from sklearn.model_selection import train_test_split\n",
    "\n",
    "#RMSE 함수\n",
    "def RMSE(y_true, y_pred):\n",
    "    return np.sqrt(np.mean((np.array(y_true) - np.array(y_pred))**2))\n",
    "\n",
    "# score(RMSE) 계산\n",
    "def score(model):\n",
    "\n",
    "    # test 데이터의 user_id와 movie_id 간 pair를 맞춰 튜플형 원소 리스트 데이터를 만듬\n",
    "    id_pairs = zip(x_test['user_id'], x_test['movie_id'])\n",
    "\n",
    "    # 모든 사용자-영화 pair 짝에 대해서 주어진 예측 모델에 의해 예측값 계산 및 리스트형 데이터 생성\n",
    "    y_pred = np.array([model(user, movie) for (user, movie) in id_pairs])\n",
    "\n",
    "    # 실제 평점값\n",
    "    y_true = np.array(x_test['rating'])\n",
    "\n",
    "    return RMSE(y_true, y_pred)\n",
    "\n",
    "\n",
    "### 데이터셋 만들기 ####\n",
    "x = ratings.copy()\n",
    "y = ratings['user_id']\n",
    "\n",
    "x_train, x_test, y_train, y_test = train_test_split(x, y, test_size=0.25, stratify=y)\n",
    "\n",
    "ratings_matrix = x_train.pivot(index='user_id', columns='movie_id', values='rating')\n",
    "\n",
    "\n",
    "### train set의 모든 가능한 사용자 pair의 코사인 유사도 계산 ###\n",
    "from sklearn.metrics.pairwise import cosine_similarity\n",
    "\n",
    "# 코사인 유사도를 구하기 위해 rating 값을 복사, 계산 시 nan 에러 대비를 위해 미리 0으로 보간\n",
    "matrix_dummy = ratings_matrix.copy().fillna(0)\n",
    "\n",
    "# 모든 사용자 간 코사인 유사도 계산\n",
    "user_similarity = cosine_similarity(matrix_dummy, matrix_dummy)\n",
    "\n",
    "# 필요한 값 조회를 위해 인덱스 및 컬럼명 지정\n",
    "user_similarity = pd.DataFrame(user_similarity,\n",
    "                                index=ratings_matrix.index,\n",
    "                                columns=ratings_matrix.index)"
   ],
   "metadata": {
    "id": "M6bLXtfFHvPf",
    "ExecuteTime": {
     "end_time": "2024-10-08T02:13:03.338227Z",
     "start_time": "2024-10-08T02:13:03.230282Z"
    }
   },
   "outputs": [],
   "execution_count": 6
  },
  {
   "cell_type": "markdown",
   "source": [
    "## [필수과제] Simple CF\n",
    "### 아래 설명에 따라 직접 구현해볼 것\n",
    "1. **영화가 평점 매트릭스에 있는지 확인**: 해당 movie_id가 평점 매트릭스에 있는지 확인하여 있으면 다음 단계로 진행.\n",
    "\n",
    "\n",
    "2. **사용자 유사도와 영화 평점 추출**: user_id의 유사도 점수와 movie_id의 영화 평점을 추출.\n",
    "\n",
    "\n",
    "3. **평점이 없는 사용자 제거**: 영화에 평점을 매기지 않은 사용자(평점이 없는 사용자)를 제거하고, 그에 해당하는 유사도 점수도 제거.\n",
    "\n",
    "\n",
    "4. **가중 평균 계산**: 유사도 점수를 가중치로 하여 평점의 가중 평균을 계산해 예측 평점을 생성.\n",
    "\n",
    "\n",
    "5. **영화가 없을 경우 기본값 사용**: 해당 영화가 매트릭스에 없으면 기본값인 3.0을 예측 평점으로 반환.\n",
    "\n",
    "\n",
    "6. **결과 반환**: 계산된 예측 평점을 반환.\n",
    "\n"
   ],
   "metadata": {
    "id": "nNvapGNqMRpm"
   }
  },
  {
   "cell_type": "code",
   "source": [
    "### 주어진 영화의(movie_id) 가중 평균 rating을 계산하는 함수 ###\n",
    "def CF_simple(user_id, movie_id):\n",
    "\n",
    "    # movie_id가 ratings_matrix에 있는 경우에만 아래 코드를 실행\n",
    "    if movie_id in ratings_matrix.columns:\n",
    "\n",
    "        # 해당 user_id의 유사도 점수를 복사해옴\n",
    "        sim_scores = user_similarity[user_id].copy()\n",
    "\n",
    "        # 해당 movie_id에 대한 영화 평점을 복사해옴\n",
    "        movie_ratings = ratings_matrix[movie_id].copy()\n",
    "\n",
    "        # 영화 평점이 없는(null) 인덱스를 찾아 저장\n",
    "        none_rating_idx = movie_ratings[movie_ratings.isnull()].index\n",
    "\n",
    "        # null 값이 있는 행을 제거하여 평점만 남김\n",
    "        movie_ratings = movie_ratings.dropna()\n",
    "\n",
    "        # 유사도 점수에서 null이었던 사용자의 유사도 점수 제거\n",
    "        sim_scores = sim_scores.drop(none_rating_idx)\n",
    "\n",
    "        # 평점과 유사도 점수를 기반으로 가중 평균을 계산하여 예측 평점을 만듦\n",
    "        mean_rating = np.dot(sim_scores, movie_ratings) / sim_scores.sum()\n",
    "\n",
    "    else:\n",
    "        # movie_id가 없으면 기본 평점 3.0을 반환\n",
    "        mean_rating = 3.0\n",
    "\n",
    "    # 계산된 평점 반환\n",
    "    return mean_rating\n",
    "\n",
    "\n",
    "### 정확도 계산 ###\n",
    "score(CF_simple)"
   ],
   "metadata": {
    "colab": {
     "base_uri": "https://localhost:8080/"
    },
    "id": "82V2XQKqMMnH",
    "outputId": "69f3b813-f7cf-418c-a15e-ccf85cb286a3",
    "ExecuteTime": {
     "end_time": "2024-10-08T02:13:07.465835Z",
     "start_time": "2024-10-08T02:13:04.264409Z"
    }
   },
   "outputs": [
    {
     "data": {
      "text/plain": [
       "1.0158417649432292"
      ]
     },
     "execution_count": 7,
     "metadata": {},
     "output_type": "execute_result"
    }
   ],
   "execution_count": 7
  },
  {
   "cell_type": "markdown",
   "source": [
    "## [필수과제] 이웃을 고려한 CF"
   ],
   "metadata": {
    "id": "BjTVXgUfYFHv"
   }
  },
  {
   "cell_type": "code",
   "source": [
    "# score 함수\n",
    "## 유사집단의 크기를 미리 정하기 위해 기존 score 함수에 neighbor_size 인자값 추가\n",
    "\n",
    "def score(model, neighbor_size=0):\n",
    "\n",
    "    # test 데이터의 user_id와 movie_id 간 pair를 맞춰 튜플형 원소 리스트 데이터를 만듬\n",
    "    id_pairs = zip(x_test['user_id'], x_test['movie_id'])\n",
    "\n",
    "    # 모든 사용자-영화 pair 짝에 대해서 주어진 예측 모델에 의해 예측값 계산 및 리스트형 데이터 생성\n",
    "    y_pred = np.array([model(user, movie, neighbor_size) for (user, movie) in id_pairs])\n",
    "\n",
    "    # 실제 평점값\n",
    "    y_true = np.array(x_test['rating'])\n",
    "\n",
    "    return RMSE(y_true, y_pred)"
   ],
   "metadata": {
    "id": "AT-1GOzjNGdE",
    "ExecuteTime": {
     "end_time": "2024-10-08T02:13:08.298579Z",
     "start_time": "2024-10-08T02:13:08.296067Z"
    }
   },
   "outputs": [],
   "execution_count": 8
  },
  {
   "cell_type": "code",
   "source": [
    "# Neighbor를 정해서 예측값을 계산하는 함수\n",
    "def CF_knn(user_id, movie_id, neighbor_size=0):\n",
    "    if movie_id in ratings_matrix.columns:\n",
    "        sim_scores = user_similarity[user_id].copy()\n",
    "        movie_ratings = ratings_matrix[movie_id].copy()\n",
    "        none_rating_idx = movie_ratings[movie_ratings.isnull()].index\n",
    "        movie_ratings = movie_ratings.dropna()\n",
    "        sim_scores = sim_scores.drop(none_rating_idx)\n",
    "\n",
    "        # neighbor_size가 0인 경우\n",
    "        if neighbor_size == 0:\n",
    "            # 모든 유사도 점수를 사용하여 가중 평균을 계산\n",
    "            mean_rating = np.dot(sim_scores, movie_ratings) / sim_scores.sum()\n",
    "\n",
    "        else:\n",
    "            if len(sim_scores) > 1:\n",
    "                ### 유사도 점수가 1보다 큰 경우, 즉 2명 이상의 유사한 사용자가 있을 때\n",
    "\n",
    "                # neighbor_size가 유사한 사용자 수를 넘지 않도록 제한\n",
    "                neighbor_size = min(neighbor_size, len(sim_scores))\n",
    "\n",
    "                # 유사도 점수를 numpy 배열로 변환\n",
    "                sim_scores = np.array(sim_scores)\n",
    "\n",
    "                # 영화 평점을 numpy 배열로 변환\n",
    "                movie_ratings = np.array(movie_ratings)\n",
    "\n",
    "                # 유사도 점수를 내림차순으로 정렬한 인덱스를 얻음\n",
    "                user_idx = np.argsort(sim_scores)[::-1][:neighbor_size]\n",
    "\n",
    "                # 상위 neighbor_size개의 유사도 점수 선택\n",
    "                sim_scores = sim_scores[user_idx]\n",
    "\n",
    "                # 상위 neighbor_size개의 평점 선택\n",
    "                movie_ratings = movie_ratings[user_idx]\n",
    "\n",
    "                # 선택된 유사도와 평점을 사용해 가중 평균 계산\n",
    "                mean_rating = np.dot(sim_scores, movie_ratings) / sim_scores.sum()\n",
    "\n",
    "            else:\n",
    "                # 유사한 사용자가 1명 이하인 경우 기본 평점 3.0을 반환\n",
    "                mean_rating = 3.0\n",
    "    else:\n",
    "        # movie_id가 없거나 neighbor_size가 없을 경우 기본 평점 3.0을 반환\n",
    "        mean_rating = 3.0\n",
    "\n",
    "    return mean_rating\n",
    "\n",
    "#정확도 계산\n",
    "score(CF_knn, neighbor_size=10)"
   ],
   "metadata": {
    "colab": {
     "base_uri": "https://localhost:8080/"
    },
    "id": "DIVdQz80YjE5",
    "outputId": "8f1f2d69-91dd-41b2-bc81-a78dca5bd165",
    "ExecuteTime": {
     "end_time": "2024-10-08T02:13:12.288991Z",
     "start_time": "2024-10-08T02:13:09.371464Z"
    }
   },
   "outputs": [
    {
     "data": {
      "text/plain": [
       "1.025163609180139"
      ]
     },
     "execution_count": 9,
     "metadata": {},
     "output_type": "execute_result"
    }
   ],
   "execution_count": 9
  },
  {
   "cell_type": "code",
   "source": [
    "### 단순 실습 ###\n",
    "## CF_knn을 이용하여 사용자에게 영화를 추천하는 기능 구현\n",
    "\n",
    "# train set이 아닌 full matrix로 다시 설정\n",
    "ratings_matrix_full= ratings.pivot_table(values='rating',\n",
    "                                     index='user_id',\n",
    "                                     columns='movie_id')\n",
    "matrix_dummy = ratings_matrix_full.copy().fillna(0)\n",
    "user_similarity = cosine_similarity(matrix_dummy, matrix_dummy)\n",
    "user_similarity = pd.DataFrame(user_similarity,\n",
    "                               index=ratings_matrix_full.index,\n",
    "                               columns=ratings_matrix_full.index)\n",
    "\n",
    "def recommend_movie(user_id, n_items, neighbor_size = 10):  # 이전에 찾은 최적의 k값을 설정\n",
    "  user_movie = ratings_matrix_full.loc[user_id].copy()\n",
    "\n",
    "  for movie in ratings_matrix_full.columns:\n",
    "    if pd.notnull(user_movie.loc[movie]):\n",
    "      user_movie.loc[movie] = 0\n",
    "\n",
    "    else:\n",
    "      user_movie.loc[movie] = CF_knn(user_id, movie, neighbor_size)\n",
    "\n",
    "  movie_sort = user_movie.sort_values(ascending=False)[:n_items]\n",
    "  recom_movies = movies.loc[movie_sort.index]\n",
    "  recommendations = recom_movies['title']\n",
    "\n",
    "  return recommendations\n",
    "\n",
    "recommend_movie(user_id=4, n_items=5, neighbor_size=15)"
   ],
   "metadata": {
    "colab": {
     "base_uri": "https://localhost:8080/",
     "height": 272
    },
    "id": "egPltcQNajHK",
    "outputId": "dfddbb4e-287f-46ff-afb1-798cfa591497",
    "ExecuteTime": {
     "end_time": "2024-10-08T02:13:13.898098Z",
     "start_time": "2024-10-08T02:13:13.432979Z"
    }
   },
   "outputs": [
    {
     "data": {
      "text/plain": [
       "movie_id\n",
       "1467                 Saint of Fort Washington, The (1993)\n",
       "1293                                      Star Kid (1997)\n",
       "1189                                   Prefontaine (1997)\n",
       "1367                                         Faust (1994)\n",
       "114     Wallace & Gromit: The Best of Aardman Animatio...\n",
       "Name: title, dtype: object"
      ]
     },
     "execution_count": 10,
     "metadata": {},
     "output_type": "execute_result"
    }
   ],
   "execution_count": 10
  },
  {
   "cell_type": "markdown",
   "source": [
    "- user_id 4번한테 5개를 추천하며 이때, k값은 4번과의 유사도가 가장 높은 상위 k명인 15명으로 설정"
   ],
   "metadata": {
    "id": "u0KNlFAJdYsj"
   }
  },
  {
   "cell_type": "markdown",
   "source": [
    "## [선택과제] MF(Matrix Factorization)\n",
    "### 어렵지 않습니다! MF의 원리와 로직을 하나하나 짚어가면서 작성하시면 됩니다 😀"
   ],
   "metadata": {
    "id": "XFAPkZHPhK4E"
   }
  },
  {
   "cell_type": "code",
   "source": [
    "class MF():\n",
    "    def __init__(self, ratings, hyper_params, verbose=True):\n",
    "        self.R = np.array(ratings)\n",
    "        self.num_users, self.num_items = np.shape(self.R)\n",
    "        self.k = hyper_params['K']\n",
    "        self.alpha = hyper_params['alpha']\n",
    "        self.beta = hyper_params['beta']\n",
    "        self.iterations = hyper_params['iterations']\n",
    "        self.verbose = hyper_params['verbose']\n",
    "\n",
    "    def rmse(self):\n",
    "        # R 행렬에서 값이 있는 (0이 아닌) 위치의 좌표를 가져옴\n",
    "        xs, ys = self.R.nonzero()\n",
    "\n",
    "        # 예측 값과 실제 값 간의 차이를 저장할 리스트 초기화\n",
    "        self.predictions = []\n",
    "        self.errors = []\n",
    "\n",
    "        for x, y in zip(xs, ys):\n",
    "            prediction = self.get_prediction(x, y)\n",
    "            self.predictions.append(prediction)\n",
    "            self.errors.append(self.R[x, y] - prediction)\n",
    "\n",
    "        self.predictions = np.array(self.predictions)\n",
    "        self.errors = np.array(self.errors)\n",
    "\n",
    "        return np.sqrt(np.mean(self.errors**2))\n",
    "\n",
    "    def train(self):\n",
    "        # P 행렬(사용자-잠재 요인 행렬) 초기화 (정규 분포로 난수 생성)\n",
    "        self.P = np.random.normal(scale=1./self.k, size=(self.num_users, self.k))\n",
    "\n",
    "        # Q 행렬(아이템-잠재 요인 행렬) 초기화 (정규 분포로 난수 생성)\n",
    "        self.Q = np.random.normal(scale=1./self.k, size=(self.num_items, self.k))\n",
    "\n",
    "        # 사용자 바이어스(bias) 초기화\n",
    "        self.b_u = np.zeros(self.num_users)\n",
    "\n",
    "        # 아이템 바이어스(bias) 초기화\n",
    "        self.b_d = np.zeros(self.num_items)\n",
    "\n",
    "        # 전체 평균 평점 계산\n",
    "        self.b = np.mean(self.R[self.R != 0])\n",
    "\n",
    "        rows, columns = self.R.nonzero()\n",
    "        self.samples = [(i, j, self.R[i, j]) for i, j in zip(rows, columns)]\n",
    "\n",
    "        training_process = []\n",
    "        for i in range(self.iterations):\n",
    "            np.random.shuffle(self.samples)\n",
    "            self.sgd()\n",
    "            rmse = self.rmse()\n",
    "            training_process.append((i+1, rmse))\n",
    "\n",
    "            if self.verbose and (i+1) % 10 == 0:\n",
    "                print(\"Iteration: %d ; train RMSE = %.4f\" % (i+1, rmse))\n",
    "\n",
    "        return training_process\n",
    "\n",
    "    def get_prediction(self, i, j):\n",
    "        prediction = self.b + self.b_u[i] + self.b_d[j] + self.P[i, :].dot(self.Q[j, :].T)\n",
    "        return prediction\n",
    "\n",
    "    def sgd(self):\n",
    "        for i, j, r in self.samples:\n",
    "            prediction = self.get_prediction(i, j)\n",
    "            e = (r - prediction)\n",
    "\n",
    "            # 사용자 바이어스 업데이트\n",
    "            self.b_u[i] += self.alpha * (e - self.beta * self.b_u[i])\n",
    "\n",
    "            # 아이템 바이어스 업데이트\n",
    "            self.b_d[j] += self.alpha * (e - self.beta * self.b_d[j])\n",
    "\n",
    "            # P 행렬 업데이트\n",
    "            self.P[i, :] += self.alpha * (e * self.Q[j, :] - self.beta * self.P[i, :])\n",
    "\n",
    "            # Q 행렬 업데이트\n",
    "            self.Q[j, :] += self.alpha * (e * self.P[i, :] - self.beta * self.Q[j, :])"
   ],
   "metadata": {
    "id": "dZpApKmydWtW",
    "ExecuteTime": {
     "end_time": "2024-10-08T02:13:15.252542Z",
     "start_time": "2024-10-08T02:13:15.246693Z"
    }
   },
   "outputs": [],
   "execution_count": 11
  },
  {
   "cell_type": "code",
   "source": [
    "R_temp = ratings.pivot(index='user_id', columns='movie_id', values='rating').fillna(0)\n",
    "\n",
    "hyper_params = {\n",
    "    'K': 30,\n",
    "    'alpha': 0.001,\n",
    "    'beta': 0.02,\n",
    "    'iterations': 100,\n",
    "    'verbose': True\n",
    "}\n",
    "\n",
    "mf = MF(R_temp, hyper_params)\n",
    "\n",
    "training_process = mf.train()"
   ],
   "metadata": {
    "colab": {
     "base_uri": "https://localhost:8080/"
    },
    "id": "ySRNyAUzE4Kh",
    "outputId": "08d8f085-0061-4a0c-90f4-1340e3b5b5d7",
    "ExecuteTime": {
     "end_time": "2024-10-08T02:14:28.356084Z",
     "start_time": "2024-10-08T02:13:16.394902Z"
    }
   },
   "outputs": [
    {
     "name": "stdout",
     "output_type": "stream",
     "text": [
      "Iteration: 10 ; train RMSE = 0.9585\n",
      "Iteration: 20 ; train RMSE = 0.9373\n",
      "Iteration: 30 ; train RMSE = 0.9281\n",
      "Iteration: 40 ; train RMSE = 0.9225\n",
      "Iteration: 50 ; train RMSE = 0.9184\n",
      "Iteration: 60 ; train RMSE = 0.9146\n",
      "Iteration: 70 ; train RMSE = 0.9103\n",
      "Iteration: 80 ; train RMSE = 0.9044\n",
      "Iteration: 90 ; train RMSE = 0.8961\n",
      "Iteration: 100 ; train RMSE = 0.8845\n"
     ]
    }
   ],
   "execution_count": 12
  },
  {
   "cell_type": "markdown",
   "source": [
    "# 5주 간의 정규세션이 모두 끝났습니다. 모두 수고하셨습니다!\n"
   ],
   "metadata": {
    "id": "LixHgrvbJmDF"
   }
  }
 ]
}
