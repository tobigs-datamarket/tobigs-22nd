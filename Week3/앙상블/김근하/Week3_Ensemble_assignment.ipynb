{
 "nbformat": 4,
 "nbformat_minor": 0,
 "metadata": {
  "colab": {
   "provenance": []
  },
  "kernelspec": {
   "name": "python3",
   "display_name": "Python 3 (ipykernel)",
   "language": "python"
  },
  "language_info": {
   "name": "python"
  }
 },
 "cells": [
  {
   "cell_type": "markdown",
   "source": [
    "# Tobigs 22기 3주차 정규세션 Ensemble 과제"
   ],
   "metadata": {
    "id": "_xOAfB-GiaZh"
   }
  },
  {
   "cell_type": "markdown",
   "source": [
    "# 과제1. High variance/bias"
   ],
   "metadata": {
    "id": "5hxzIrdRihjn"
   }
  },
  {
   "cell_type": "markdown",
   "source": [
    "개념참조영상 : https://www.youtube.com/watch?v=EuBBz3bI-aA"
   ],
   "metadata": {
    "id": "Ni0ZDw5st7H9"
   }
  },
  {
   "cell_type": "markdown",
   "source": [
    "## Q1. High variance의 정의 및 문제점에 대해 설명해주세요."
   ],
   "metadata": {
    "id": "liNjHb33irML"
   }
  },
  {
   "metadata": {},
   "cell_type": "markdown",
   "source": ""
  },
  {
   "cell_type": "markdown",
   "source": "🐻‍❄️ 복잡한 모델을 다룰 경우 학습 데이터에서 생기는 노이즈나 불규칙성도 학습하여 새로운 데이터에 대해 성능이 저하된다. 따라서 train시에는 좋은 성능을 보일지 몰라도 test시의 성능이 제대로 나오지 않는 경우가 발생한다.",
   "metadata": {
    "id": "zLMnK6tLnIdD"
   }
  },
  {
   "cell_type": "markdown",
   "source": [
    "## Q2. High bias의 정의 및 문제점에 대해 설명해주세요."
   ],
   "metadata": {
    "id": "bivDB4kEnK-P"
   }
  },
  {
   "cell_type": "markdown",
   "source": "🐻‍❄️ 너무 단순한 모델을 다룰 시에 문제가 생기며 과도하게 일반화된 예측을 하게 된다.",
   "metadata": {
    "id": "h5JAKP30nOOP"
   }
  },
  {
   "cell_type": "markdown",
   "source": [
    "## Q3. High variance 와 high bias를 다룰때 적합한 ensemble 방식과 그 이유를 적어주세요."
   ],
   "metadata": {
    "id": "a-WnTREZnW6x"
   }
  },
  {
   "cell_type": "markdown",
   "source": [
    "- High variance problem : 🐻‍❄️ 고분산 문제에 사용할 수 있는 앙상블 방식은 Bootstrap aggregating으로 학습 데이터에 과적합되는 상황에서 발생하는 분산을 줄이고 안정적인 예측을 할 수 있도록 도운다.\n",
    "\n"
   ],
   "metadata": {
    "id": "tmcHEXvvpQeZ"
   }
  },
  {
   "cell_type": "markdown",
   "source": "- High bias problem : 🐻‍❄️ Boosting은 고 편향 문제를 해결하는 데 효과적인 앙상블 기법이다. 이는 너무 단순해서 데이터의 복잡한 패턴을 충분히 학습하지 못할 때 약한 모델을 결합하여 이를 해결한다.",
   "metadata": {
    "id": "_uH2ZHQrpnEH"
   }
  },
  {
   "cell_type": "markdown",
   "source": [
    "# 과제2. Ensemble 실습"
   ],
   "metadata": {
    "id": "SQxmuuhJtMnR"
   }
  },
  {
   "cell_type": "markdown",
   "source": [
    "데이터 출처: https://www.kaggle.com/sakshigoyal7/credit-card-customers"
   ],
   "metadata": {
    "id": "BRjU5wonvHe-"
   }
  },
  {
   "cell_type": "markdown",
   "source": [
    "## 목표 : 은행 신용 카드 서비스 이탈 고객 예측 모델 만들기!\n",
    "\n",
    "### 칼럼 설명\n",
    "```\n",
    "[features]\n",
    " - Customer_Age : 고객의 나이\n",
    " - Gender : 성별 (M=Male, F=Female)\n",
    " - Dependent_count : 부양하는 가족의 수\n",
    " - Education_Level : 고객의 최종 학력 (example: high school, college graduate, etc.)\n",
    " - Marital_Status : 결혼 상태 (Married, Single, Divorced, Unknown)\n",
    " - Income_Category : 소득 범주 (< $40K, $40K - 60K, $60K - $80K, $80K-$120K, etc.)\n",
    " - Card_Category : 카드 종류 (Blue, Silver, Gold, Platinum)\n",
    " - Months_on_book : 은행과의 관계 기간 (개월 수)\n",
    " - Total_Relationship_Count : 고객이 보유한 전체 제품 수\n",
    " - Months_Inactive_12_mon : 최근 12개월 동안 비활성화된 개월 수\n",
    " - Contacts_Count_12_mon : 최근 12개월 동안의 연락 횟수\n",
    " - Credit_Limit : 신용 카드의 신용 한도\n",
    " - Total_Revolving_Bal : 신용 카드의 총 회전 잔액\n",
    " - Avg_Open_To_Buy : 구매 가능 신용 한도 (최근 12개월 평균)\n",
    " - Total_Amt_Chng_Q4_Q1 : 거래 금액 변화율 (4분기 대비 1분기)\n",
    " - Total_Trans_Amt :  총 거래 금액 (지난 12개월)\n",
    " - Total_Trans_Ct : 총 거래 횟수 (지난 12개월)\n",
    " - Total_Ct_Chng_Q4_Q1 : 거래 횟수 변화율 (4분기 대비 1분기)\n",
    " - Avg_Utilization_Ratio : 평균 카드 이용 비율\n",
    "\n",
    "[target]\n",
    " - Attrition_Flag : 고객 활동 변수 / Existing Customer - 0, Attrited Customer - 1\n",
    "\n",
    "```\n"
   ],
   "metadata": {
    "id": "AwPHTl6BtjH1"
   }
  },
  {
   "cell_type": "code",
   "source": [
    "import pandas as pd\n",
    "\n",
    "# 🐻‍❄️데이터의 경로는 변경해주세요\n",
    "df = pd.read_csv('BankChurners.csv')\n",
    "\n",
    "# Feature 21 & 22의 경우 데이터 셋에서 삭제하는 것을 추천하는 문구 발견, 삭제\n",
    "print(len(df.columns))\n",
    "df.drop(df.columns[[21, 22]], axis = 1, inplace = True) # inplace = True 데이터 원본에서 처리 not copy\n",
    "print(len(df.columns))"
   ],
   "metadata": {
    "colab": {
     "base_uri": "https://localhost:8080/"
    },
    "id": "1VH82x-ZiqiH",
    "outputId": "16663d90-73b8-4e4a-c059-04a98ff9efad",
    "ExecuteTime": {
     "end_time": "2024-09-14T11:10:28.489417Z",
     "start_time": "2024-09-14T11:10:28.469095Z"
    }
   },
   "outputs": [
    {
     "name": "stdout",
     "output_type": "stream",
     "text": [
      "23\n",
      "21\n"
     ]
    }
   ],
   "execution_count": 20
  },
  {
   "cell_type": "code",
   "source": [
    "df.head()"
   ],
   "metadata": {
    "colab": {
     "base_uri": "https://localhost:8080/",
     "height": 256
    },
    "id": "YRKgT_HeihEe",
    "outputId": "52fc0a88-b81d-4e35-a5a4-474879dcc911",
    "ExecuteTime": {
     "end_time": "2024-09-14T11:10:29.176941Z",
     "start_time": "2024-09-14T11:10:29.168622Z"
    }
   },
   "outputs": [
    {
     "data": {
      "text/plain": [
       "   CLIENTNUM     Attrition_Flag  Customer_Age Gender  Dependent_count  \\\n",
       "0  768805383  Existing Customer            45      M                3   \n",
       "1  818770008  Existing Customer            49      F                5   \n",
       "2  713982108  Existing Customer            51      M                3   \n",
       "3  769911858  Existing Customer            40      F                4   \n",
       "4  709106358  Existing Customer            40      M                3   \n",
       "\n",
       "  Education_Level Marital_Status Income_Category Card_Category  \\\n",
       "0     High School        Married     $60K - $80K          Blue   \n",
       "1        Graduate         Single  Less than $40K          Blue   \n",
       "2        Graduate        Married    $80K - $120K          Blue   \n",
       "3     High School        Unknown  Less than $40K          Blue   \n",
       "4      Uneducated        Married     $60K - $80K          Blue   \n",
       "\n",
       "   Months_on_book  ...  Months_Inactive_12_mon  Contacts_Count_12_mon  \\\n",
       "0              39  ...                       1                      3   \n",
       "1              44  ...                       1                      2   \n",
       "2              36  ...                       1                      0   \n",
       "3              34  ...                       4                      1   \n",
       "4              21  ...                       1                      0   \n",
       "\n",
       "   Credit_Limit  Total_Revolving_Bal  Avg_Open_To_Buy  Total_Amt_Chng_Q4_Q1  \\\n",
       "0       12691.0                  777          11914.0                 1.335   \n",
       "1        8256.0                  864           7392.0                 1.541   \n",
       "2        3418.0                    0           3418.0                 2.594   \n",
       "3        3313.0                 2517            796.0                 1.405   \n",
       "4        4716.0                    0           4716.0                 2.175   \n",
       "\n",
       "   Total_Trans_Amt  Total_Trans_Ct  Total_Ct_Chng_Q4_Q1  Avg_Utilization_Ratio  \n",
       "0             1144              42                1.625                  0.061  \n",
       "1             1291              33                3.714                  0.105  \n",
       "2             1887              20                2.333                  0.000  \n",
       "3             1171              20                2.333                  0.760  \n",
       "4              816              28                2.500                  0.000  \n",
       "\n",
       "[5 rows x 21 columns]"
      ],
      "text/html": [
       "<div>\n",
       "<style scoped>\n",
       "    .dataframe tbody tr th:only-of-type {\n",
       "        vertical-align: middle;\n",
       "    }\n",
       "\n",
       "    .dataframe tbody tr th {\n",
       "        vertical-align: top;\n",
       "    }\n",
       "\n",
       "    .dataframe thead th {\n",
       "        text-align: right;\n",
       "    }\n",
       "</style>\n",
       "<table border=\"1\" class=\"dataframe\">\n",
       "  <thead>\n",
       "    <tr style=\"text-align: right;\">\n",
       "      <th></th>\n",
       "      <th>CLIENTNUM</th>\n",
       "      <th>Attrition_Flag</th>\n",
       "      <th>Customer_Age</th>\n",
       "      <th>Gender</th>\n",
       "      <th>Dependent_count</th>\n",
       "      <th>Education_Level</th>\n",
       "      <th>Marital_Status</th>\n",
       "      <th>Income_Category</th>\n",
       "      <th>Card_Category</th>\n",
       "      <th>Months_on_book</th>\n",
       "      <th>...</th>\n",
       "      <th>Months_Inactive_12_mon</th>\n",
       "      <th>Contacts_Count_12_mon</th>\n",
       "      <th>Credit_Limit</th>\n",
       "      <th>Total_Revolving_Bal</th>\n",
       "      <th>Avg_Open_To_Buy</th>\n",
       "      <th>Total_Amt_Chng_Q4_Q1</th>\n",
       "      <th>Total_Trans_Amt</th>\n",
       "      <th>Total_Trans_Ct</th>\n",
       "      <th>Total_Ct_Chng_Q4_Q1</th>\n",
       "      <th>Avg_Utilization_Ratio</th>\n",
       "    </tr>\n",
       "  </thead>\n",
       "  <tbody>\n",
       "    <tr>\n",
       "      <th>0</th>\n",
       "      <td>768805383</td>\n",
       "      <td>Existing Customer</td>\n",
       "      <td>45</td>\n",
       "      <td>M</td>\n",
       "      <td>3</td>\n",
       "      <td>High School</td>\n",
       "      <td>Married</td>\n",
       "      <td>$60K - $80K</td>\n",
       "      <td>Blue</td>\n",
       "      <td>39</td>\n",
       "      <td>...</td>\n",
       "      <td>1</td>\n",
       "      <td>3</td>\n",
       "      <td>12691.0</td>\n",
       "      <td>777</td>\n",
       "      <td>11914.0</td>\n",
       "      <td>1.335</td>\n",
       "      <td>1144</td>\n",
       "      <td>42</td>\n",
       "      <td>1.625</td>\n",
       "      <td>0.061</td>\n",
       "    </tr>\n",
       "    <tr>\n",
       "      <th>1</th>\n",
       "      <td>818770008</td>\n",
       "      <td>Existing Customer</td>\n",
       "      <td>49</td>\n",
       "      <td>F</td>\n",
       "      <td>5</td>\n",
       "      <td>Graduate</td>\n",
       "      <td>Single</td>\n",
       "      <td>Less than $40K</td>\n",
       "      <td>Blue</td>\n",
       "      <td>44</td>\n",
       "      <td>...</td>\n",
       "      <td>1</td>\n",
       "      <td>2</td>\n",
       "      <td>8256.0</td>\n",
       "      <td>864</td>\n",
       "      <td>7392.0</td>\n",
       "      <td>1.541</td>\n",
       "      <td>1291</td>\n",
       "      <td>33</td>\n",
       "      <td>3.714</td>\n",
       "      <td>0.105</td>\n",
       "    </tr>\n",
       "    <tr>\n",
       "      <th>2</th>\n",
       "      <td>713982108</td>\n",
       "      <td>Existing Customer</td>\n",
       "      <td>51</td>\n",
       "      <td>M</td>\n",
       "      <td>3</td>\n",
       "      <td>Graduate</td>\n",
       "      <td>Married</td>\n",
       "      <td>$80K - $120K</td>\n",
       "      <td>Blue</td>\n",
       "      <td>36</td>\n",
       "      <td>...</td>\n",
       "      <td>1</td>\n",
       "      <td>0</td>\n",
       "      <td>3418.0</td>\n",
       "      <td>0</td>\n",
       "      <td>3418.0</td>\n",
       "      <td>2.594</td>\n",
       "      <td>1887</td>\n",
       "      <td>20</td>\n",
       "      <td>2.333</td>\n",
       "      <td>0.000</td>\n",
       "    </tr>\n",
       "    <tr>\n",
       "      <th>3</th>\n",
       "      <td>769911858</td>\n",
       "      <td>Existing Customer</td>\n",
       "      <td>40</td>\n",
       "      <td>F</td>\n",
       "      <td>4</td>\n",
       "      <td>High School</td>\n",
       "      <td>Unknown</td>\n",
       "      <td>Less than $40K</td>\n",
       "      <td>Blue</td>\n",
       "      <td>34</td>\n",
       "      <td>...</td>\n",
       "      <td>4</td>\n",
       "      <td>1</td>\n",
       "      <td>3313.0</td>\n",
       "      <td>2517</td>\n",
       "      <td>796.0</td>\n",
       "      <td>1.405</td>\n",
       "      <td>1171</td>\n",
       "      <td>20</td>\n",
       "      <td>2.333</td>\n",
       "      <td>0.760</td>\n",
       "    </tr>\n",
       "    <tr>\n",
       "      <th>4</th>\n",
       "      <td>709106358</td>\n",
       "      <td>Existing Customer</td>\n",
       "      <td>40</td>\n",
       "      <td>M</td>\n",
       "      <td>3</td>\n",
       "      <td>Uneducated</td>\n",
       "      <td>Married</td>\n",
       "      <td>$60K - $80K</td>\n",
       "      <td>Blue</td>\n",
       "      <td>21</td>\n",
       "      <td>...</td>\n",
       "      <td>1</td>\n",
       "      <td>0</td>\n",
       "      <td>4716.0</td>\n",
       "      <td>0</td>\n",
       "      <td>4716.0</td>\n",
       "      <td>2.175</td>\n",
       "      <td>816</td>\n",
       "      <td>28</td>\n",
       "      <td>2.500</td>\n",
       "      <td>0.000</td>\n",
       "    </tr>\n",
       "  </tbody>\n",
       "</table>\n",
       "<p>5 rows × 21 columns</p>\n",
       "</div>"
      ]
     },
     "execution_count": 21,
     "metadata": {},
     "output_type": "execute_result"
    }
   ],
   "execution_count": 21
  },
  {
   "cell_type": "code",
   "source": [
    "df.info()"
   ],
   "metadata": {
    "colab": {
     "base_uri": "https://localhost:8080/"
    },
    "id": "dK41AVUos-2d",
    "outputId": "61111acf-40ce-4aa2-a3af-6c252675f2cd",
    "ExecuteTime": {
     "end_time": "2024-09-14T11:10:29.723627Z",
     "start_time": "2024-09-14T11:10:29.718353Z"
    }
   },
   "outputs": [
    {
     "name": "stdout",
     "output_type": "stream",
     "text": [
      "<class 'pandas.core.frame.DataFrame'>\n",
      "RangeIndex: 10127 entries, 0 to 10126\n",
      "Data columns (total 21 columns):\n",
      " #   Column                    Non-Null Count  Dtype  \n",
      "---  ------                    --------------  -----  \n",
      " 0   CLIENTNUM                 10127 non-null  int64  \n",
      " 1   Attrition_Flag            10127 non-null  object \n",
      " 2   Customer_Age              10127 non-null  int64  \n",
      " 3   Gender                    10127 non-null  object \n",
      " 4   Dependent_count           10127 non-null  int64  \n",
      " 5   Education_Level           10127 non-null  object \n",
      " 6   Marital_Status            10127 non-null  object \n",
      " 7   Income_Category           10127 non-null  object \n",
      " 8   Card_Category             10127 non-null  object \n",
      " 9   Months_on_book            10127 non-null  int64  \n",
      " 10  Total_Relationship_Count  10127 non-null  int64  \n",
      " 11  Months_Inactive_12_mon    10127 non-null  int64  \n",
      " 12  Contacts_Count_12_mon     10127 non-null  int64  \n",
      " 13  Credit_Limit              10127 non-null  float64\n",
      " 14  Total_Revolving_Bal       10127 non-null  int64  \n",
      " 15  Avg_Open_To_Buy           10127 non-null  float64\n",
      " 16  Total_Amt_Chng_Q4_Q1      10127 non-null  float64\n",
      " 17  Total_Trans_Amt           10127 non-null  int64  \n",
      " 18  Total_Trans_Ct            10127 non-null  int64  \n",
      " 19  Total_Ct_Chng_Q4_Q1       10127 non-null  float64\n",
      " 20  Avg_Utilization_Ratio     10127 non-null  float64\n",
      "dtypes: float64(5), int64(10), object(6)\n",
      "memory usage: 1.6+ MB\n"
     ]
    }
   ],
   "execution_count": 22
  },
  {
   "cell_type": "markdown",
   "source": [
    "## EDA & Preprocessing"
   ],
   "metadata": {
    "id": "_u9ONzkNw_-p"
   }
  },
  {
   "cell_type": "markdown",
   "source": [
    "EDA를 통해 인사이트를 얻고 전처리를 진행해주세요."
   ],
   "metadata": {
    "id": "lUlNZgAsxClt"
   }
  },
  {
   "cell_type": "code",
   "source": [
    "import pandas as pd\n",
    "import numpy as np\n",
    "import matplotlib.pyplot as plt\n",
    "import seaborn as sns\n",
    "df = df.dropna()\n"
   ],
   "metadata": {
    "id": "pkJz5T4Ow0P9",
    "ExecuteTime": {
     "end_time": "2024-09-14T11:10:31.213546Z",
     "start_time": "2024-09-14T11:10:31.209484Z"
    }
   },
   "outputs": [],
   "execution_count": 23
  },
  {
   "metadata": {},
   "cell_type": "markdown",
   "source": ""
  },
  {
   "metadata": {
    "ExecuteTime": {
     "end_time": "2024-09-14T11:12:16.991033Z",
     "start_time": "2024-09-14T11:12:16.970859Z"
    }
   },
   "cell_type": "code",
   "source": [
    "df = df.drop_duplicates()\n",
    "\n",
    "# 문자열로 구성된 열(column) 삭제하는 코드\n",
    "df_cleaned = df.drop(df.select_dtypes(include=['object']).columns, axis=1)\n",
    "\n",
    "# 결과 확인\n",
    "print(df_cleaned.head())"
   ],
   "outputs": [
    {
     "name": "stdout",
     "output_type": "stream",
     "text": [
      "   CLIENTNUM  Customer_Age  Dependent_count  Months_on_book  \\\n",
      "0  768805383            45                3              39   \n",
      "1  818770008            49                5              44   \n",
      "2  713982108            51                3              36   \n",
      "3  769911858            40                4              34   \n",
      "4  709106358            40                3              21   \n",
      "\n",
      "   Total_Relationship_Count  Months_Inactive_12_mon  Contacts_Count_12_mon  \\\n",
      "0                         5                       1                      3   \n",
      "1                         6                       1                      2   \n",
      "2                         4                       1                      0   \n",
      "3                         3                       4                      1   \n",
      "4                         5                       1                      0   \n",
      "\n",
      "   Credit_Limit  Total_Revolving_Bal  Avg_Open_To_Buy  Total_Amt_Chng_Q4_Q1  \\\n",
      "0       12691.0                  777          11914.0                 1.335   \n",
      "1        8256.0                  864           7392.0                 1.541   \n",
      "2        3418.0                    0           3418.0                 2.594   \n",
      "3        3313.0                 2517            796.0                 1.405   \n",
      "4        4716.0                    0           4716.0                 2.175   \n",
      "\n",
      "   Total_Trans_Amt  Total_Trans_Ct  Total_Ct_Chng_Q4_Q1  Avg_Utilization_Ratio  \n",
      "0             1144              42                1.625                  0.061  \n",
      "1             1291              33                3.714                  0.105  \n",
      "2             1887              20                2.333                  0.000  \n",
      "3             1171              20                2.333                  0.760  \n",
      "4              816              28                2.500                  0.000  \n"
     ]
    }
   ],
   "execution_count": 33
  },
  {
   "cell_type": "code",
   "source": [
    "# 박스플롯을 통한 이상치 탐지\n",
    "plt.figure(figsize=(10, 6))\n",
    "sns.boxplot(data=df)\n",
    "plt.show()\n",
    "\n",
    "# 이상치 제거 (IQR 방식을 활용)\n",
    "Q1 = df.quantile(0.25)\n",
    "Q3 = df.quantile(0.75)\n",
    "IQR = Q3 - Q1\n",
    "\n",
    "df_cleaned = df[~((df < (Q1 - 1.5 * IQR)) | (df > (Q3 + 1.5 *IQR))).any(axis=1)]"
   ],
   "metadata": {
    "id": "mbUZhZPJxQjp",
    "ExecuteTime": {
     "end_time": "2024-09-14T11:12:17.717077Z",
     "start_time": "2024-09-14T11:12:17.205076Z"
    }
   },
   "outputs": [
    {
     "data": {
      "text/plain": [
       "<Figure size 1000x600 with 1 Axes>"
      ],
      "image/png": "[encoded data removed]"
     },
     "metadata": {},
     "output_type": "display_data"
    },
    {
     "ename": "TypeError",
     "evalue": "unsupported operand type(s) for -: 'str' and 'str'",
     "output_type": "error",
     "traceback": [
      "\u001B[0;31m---------------------------------------------------------------------------\u001B[0m",
      "\u001B[0;31mTypeError\u001B[0m                                 Traceback (most recent call last)",
      "Cell \u001B[0;32mIn[34], line 7\u001B[0m\n\u001B[1;32m      4\u001B[0m plt\u001B[38;5;241m.\u001B[39mshow()\n\u001B[1;32m      6\u001B[0m \u001B[38;5;66;03m# 이상치 제거 (IQR 방식을 활용)\u001B[39;00m\n\u001B[0;32m----> 7\u001B[0m Q1 \u001B[38;5;241m=\u001B[39m \u001B[43mdf\u001B[49m\u001B[38;5;241;43m.\u001B[39;49m\u001B[43mquantile\u001B[49m\u001B[43m(\u001B[49m\u001B[38;5;241;43m0.25\u001B[39;49m\u001B[43m)\u001B[49m\n\u001B[1;32m      8\u001B[0m Q3 \u001B[38;5;241m=\u001B[39m df\u001B[38;5;241m.\u001B[39mquantile(\u001B[38;5;241m0.75\u001B[39m)\n\u001B[1;32m      9\u001B[0m IQR \u001B[38;5;241m=\u001B[39m Q3 \u001B[38;5;241m-\u001B[39m Q1\n",
      "File \u001B[0;32m/Library/Frameworks/Python.framework/Versions/3.10/lib/python3.10/site-packages/pandas/core/frame.py:12119\u001B[0m, in \u001B[0;36mDataFrame.quantile\u001B[0;34m(self, q, axis, numeric_only, interpolation, method)\u001B[0m\n\u001B[1;32m  12113\u001B[0m axis \u001B[38;5;241m=\u001B[39m \u001B[38;5;28mself\u001B[39m\u001B[38;5;241m.\u001B[39m_get_axis_number(axis)\n\u001B[1;32m  12115\u001B[0m \u001B[38;5;28;01mif\u001B[39;00m \u001B[38;5;129;01mnot\u001B[39;00m is_list_like(q):\n\u001B[1;32m  12116\u001B[0m     \u001B[38;5;66;03m# BlockManager.quantile expects listlike, so we wrap and unwrap here\u001B[39;00m\n\u001B[1;32m  12117\u001B[0m     \u001B[38;5;66;03m# error: List item 0 has incompatible type \"float | ExtensionArray |\u001B[39;00m\n\u001B[1;32m  12118\u001B[0m     \u001B[38;5;66;03m# ndarray[Any, Any] | Index | Series | Sequence[float]\"; expected \"float\"\u001B[39;00m\n\u001B[0;32m> 12119\u001B[0m     res_df \u001B[38;5;241m=\u001B[39m \u001B[38;5;28;43mself\u001B[39;49m\u001B[38;5;241;43m.\u001B[39;49m\u001B[43mquantile\u001B[49m\u001B[43m(\u001B[49m\n\u001B[1;32m  12120\u001B[0m \u001B[43m        \u001B[49m\u001B[43m[\u001B[49m\u001B[43mq\u001B[49m\u001B[43m]\u001B[49m\u001B[43m,\u001B[49m\u001B[43m  \u001B[49m\u001B[38;5;66;43;03m# type: ignore[list-item]\u001B[39;49;00m\n\u001B[1;32m  12121\u001B[0m \u001B[43m        \u001B[49m\u001B[43maxis\u001B[49m\u001B[38;5;241;43m=\u001B[39;49m\u001B[43maxis\u001B[49m\u001B[43m,\u001B[49m\n\u001B[1;32m  12122\u001B[0m \u001B[43m        \u001B[49m\u001B[43mnumeric_only\u001B[49m\u001B[38;5;241;43m=\u001B[39;49m\u001B[43mnumeric_only\u001B[49m\u001B[43m,\u001B[49m\n\u001B[1;32m  12123\u001B[0m \u001B[43m        \u001B[49m\u001B[43minterpolation\u001B[49m\u001B[38;5;241;43m=\u001B[39;49m\u001B[43minterpolation\u001B[49m\u001B[43m,\u001B[49m\n\u001B[1;32m  12124\u001B[0m \u001B[43m        \u001B[49m\u001B[43mmethod\u001B[49m\u001B[38;5;241;43m=\u001B[39;49m\u001B[43mmethod\u001B[49m\u001B[43m,\u001B[49m\n\u001B[1;32m  12125\u001B[0m \u001B[43m    \u001B[49m\u001B[43m)\u001B[49m\n\u001B[1;32m  12126\u001B[0m     \u001B[38;5;28;01mif\u001B[39;00m method \u001B[38;5;241m==\u001B[39m \u001B[38;5;124m\"\u001B[39m\u001B[38;5;124msingle\u001B[39m\u001B[38;5;124m\"\u001B[39m:\n\u001B[1;32m  12127\u001B[0m         res \u001B[38;5;241m=\u001B[39m res_df\u001B[38;5;241m.\u001B[39miloc[\u001B[38;5;241m0\u001B[39m]\n",
      "File \u001B[0;32m/Library/Frameworks/Python.framework/Versions/3.10/lib/python3.10/site-packages/pandas/core/frame.py:12164\u001B[0m, in \u001B[0;36mDataFrame.quantile\u001B[0;34m(self, q, axis, numeric_only, interpolation, method)\u001B[0m\n\u001B[1;32m  12160\u001B[0m     \u001B[38;5;28;01mraise\u001B[39;00m \u001B[38;5;167;01mValueError\u001B[39;00m(\n\u001B[1;32m  12161\u001B[0m         \u001B[38;5;124mf\u001B[39m\u001B[38;5;124m\"\u001B[39m\u001B[38;5;124mInvalid method: \u001B[39m\u001B[38;5;132;01m{\u001B[39;00mmethod\u001B[38;5;132;01m}\u001B[39;00m\u001B[38;5;124m. Method must be in \u001B[39m\u001B[38;5;132;01m{\u001B[39;00mvalid_method\u001B[38;5;132;01m}\u001B[39;00m\u001B[38;5;124m.\u001B[39m\u001B[38;5;124m\"\u001B[39m\n\u001B[1;32m  12162\u001B[0m     )\n\u001B[1;32m  12163\u001B[0m \u001B[38;5;28;01mif\u001B[39;00m method \u001B[38;5;241m==\u001B[39m \u001B[38;5;124m\"\u001B[39m\u001B[38;5;124msingle\u001B[39m\u001B[38;5;124m\"\u001B[39m:\n\u001B[0;32m> 12164\u001B[0m     res \u001B[38;5;241m=\u001B[39m \u001B[43mdata\u001B[49m\u001B[38;5;241;43m.\u001B[39;49m\u001B[43m_mgr\u001B[49m\u001B[38;5;241;43m.\u001B[39;49m\u001B[43mquantile\u001B[49m\u001B[43m(\u001B[49m\u001B[43mqs\u001B[49m\u001B[38;5;241;43m=\u001B[39;49m\u001B[43mq\u001B[49m\u001B[43m,\u001B[49m\u001B[43m \u001B[49m\u001B[43minterpolation\u001B[49m\u001B[38;5;241;43m=\u001B[39;49m\u001B[43minterpolation\u001B[49m\u001B[43m)\u001B[49m\n\u001B[1;32m  12165\u001B[0m \u001B[38;5;28;01melif\u001B[39;00m method \u001B[38;5;241m==\u001B[39m \u001B[38;5;124m\"\u001B[39m\u001B[38;5;124mtable\u001B[39m\u001B[38;5;124m\"\u001B[39m:\n\u001B[1;32m  12166\u001B[0m     valid_interpolation \u001B[38;5;241m=\u001B[39m {\u001B[38;5;124m\"\u001B[39m\u001B[38;5;124mnearest\u001B[39m\u001B[38;5;124m\"\u001B[39m, \u001B[38;5;124m\"\u001B[39m\u001B[38;5;124mlower\u001B[39m\u001B[38;5;124m\"\u001B[39m, \u001B[38;5;124m\"\u001B[39m\u001B[38;5;124mhigher\u001B[39m\u001B[38;5;124m\"\u001B[39m}\n",
      "File \u001B[0;32m/Library/Frameworks/Python.framework/Versions/3.10/lib/python3.10/site-packages/pandas/core/internals/managers.py:1549\u001B[0m, in \u001B[0;36mBlockManager.quantile\u001B[0;34m(self, qs, interpolation)\u001B[0m\n\u001B[1;32m   1546\u001B[0m new_axes \u001B[38;5;241m=\u001B[39m \u001B[38;5;28mlist\u001B[39m(\u001B[38;5;28mself\u001B[39m\u001B[38;5;241m.\u001B[39maxes)\n\u001B[1;32m   1547\u001B[0m new_axes[\u001B[38;5;241m1\u001B[39m] \u001B[38;5;241m=\u001B[39m Index(qs, dtype\u001B[38;5;241m=\u001B[39mnp\u001B[38;5;241m.\u001B[39mfloat64)\n\u001B[0;32m-> 1549\u001B[0m blocks \u001B[38;5;241m=\u001B[39m [\n\u001B[1;32m   1550\u001B[0m     blk\u001B[38;5;241m.\u001B[39mquantile(qs\u001B[38;5;241m=\u001B[39mqs, interpolation\u001B[38;5;241m=\u001B[39minterpolation) \u001B[38;5;28;01mfor\u001B[39;00m blk \u001B[38;5;129;01min\u001B[39;00m \u001B[38;5;28mself\u001B[39m\u001B[38;5;241m.\u001B[39mblocks\n\u001B[1;32m   1551\u001B[0m ]\n\u001B[1;32m   1553\u001B[0m \u001B[38;5;28;01mreturn\u001B[39;00m \u001B[38;5;28mtype\u001B[39m(\u001B[38;5;28mself\u001B[39m)(blocks, new_axes)\n",
      "File \u001B[0;32m/Library/Frameworks/Python.framework/Versions/3.10/lib/python3.10/site-packages/pandas/core/internals/managers.py:1550\u001B[0m, in \u001B[0;36m<listcomp>\u001B[0;34m(.0)\u001B[0m\n\u001B[1;32m   1546\u001B[0m new_axes \u001B[38;5;241m=\u001B[39m \u001B[38;5;28mlist\u001B[39m(\u001B[38;5;28mself\u001B[39m\u001B[38;5;241m.\u001B[39maxes)\n\u001B[1;32m   1547\u001B[0m new_axes[\u001B[38;5;241m1\u001B[39m] \u001B[38;5;241m=\u001B[39m Index(qs, dtype\u001B[38;5;241m=\u001B[39mnp\u001B[38;5;241m.\u001B[39mfloat64)\n\u001B[1;32m   1549\u001B[0m blocks \u001B[38;5;241m=\u001B[39m [\n\u001B[0;32m-> 1550\u001B[0m     \u001B[43mblk\u001B[49m\u001B[38;5;241;43m.\u001B[39;49m\u001B[43mquantile\u001B[49m\u001B[43m(\u001B[49m\u001B[43mqs\u001B[49m\u001B[38;5;241;43m=\u001B[39;49m\u001B[43mqs\u001B[49m\u001B[43m,\u001B[49m\u001B[43m \u001B[49m\u001B[43minterpolation\u001B[49m\u001B[38;5;241;43m=\u001B[39;49m\u001B[43minterpolation\u001B[49m\u001B[43m)\u001B[49m \u001B[38;5;28;01mfor\u001B[39;00m blk \u001B[38;5;129;01min\u001B[39;00m \u001B[38;5;28mself\u001B[39m\u001B[38;5;241m.\u001B[39mblocks\n\u001B[1;32m   1551\u001B[0m ]\n\u001B[1;32m   1553\u001B[0m \u001B[38;5;28;01mreturn\u001B[39;00m \u001B[38;5;28mtype\u001B[39m(\u001B[38;5;28mself\u001B[39m)(blocks, new_axes)\n",
      "File \u001B[0;32m/Library/Frameworks/Python.framework/Versions/3.10/lib/python3.10/site-packages/pandas/core/internals/blocks.py:1884\u001B[0m, in \u001B[0;36mBlock.quantile\u001B[0;34m(self, qs, interpolation)\u001B[0m\n\u001B[1;32m   1881\u001B[0m \u001B[38;5;28;01massert\u001B[39;00m \u001B[38;5;28mself\u001B[39m\u001B[38;5;241m.\u001B[39mndim \u001B[38;5;241m==\u001B[39m \u001B[38;5;241m2\u001B[39m\n\u001B[1;32m   1882\u001B[0m \u001B[38;5;28;01massert\u001B[39;00m is_list_like(qs)  \u001B[38;5;66;03m# caller is responsible for this\u001B[39;00m\n\u001B[0;32m-> 1884\u001B[0m result \u001B[38;5;241m=\u001B[39m \u001B[43mquantile_compat\u001B[49m\u001B[43m(\u001B[49m\u001B[38;5;28;43mself\u001B[39;49m\u001B[38;5;241;43m.\u001B[39;49m\u001B[43mvalues\u001B[49m\u001B[43m,\u001B[49m\u001B[43m \u001B[49m\u001B[43mnp\u001B[49m\u001B[38;5;241;43m.\u001B[39;49m\u001B[43masarray\u001B[49m\u001B[43m(\u001B[49m\u001B[43mqs\u001B[49m\u001B[38;5;241;43m.\u001B[39;49m\u001B[43m_values\u001B[49m\u001B[43m)\u001B[49m\u001B[43m,\u001B[49m\u001B[43m \u001B[49m\u001B[43minterpolation\u001B[49m\u001B[43m)\u001B[49m\n\u001B[1;32m   1885\u001B[0m \u001B[38;5;66;03m# ensure_block_shape needed for cases where we start with EA and result\u001B[39;00m\n\u001B[1;32m   1886\u001B[0m \u001B[38;5;66;03m#  is ndarray, e.g. IntegerArray, SparseArray\u001B[39;00m\n\u001B[1;32m   1887\u001B[0m result \u001B[38;5;241m=\u001B[39m ensure_block_shape(result, ndim\u001B[38;5;241m=\u001B[39m\u001B[38;5;241m2\u001B[39m)\n",
      "File \u001B[0;32m/Library/Frameworks/Python.framework/Versions/3.10/lib/python3.10/site-packages/pandas/core/array_algos/quantile.py:39\u001B[0m, in \u001B[0;36mquantile_compat\u001B[0;34m(values, qs, interpolation)\u001B[0m\n\u001B[1;32m     37\u001B[0m     fill_value \u001B[38;5;241m=\u001B[39m na_value_for_dtype(values\u001B[38;5;241m.\u001B[39mdtype, compat\u001B[38;5;241m=\u001B[39m\u001B[38;5;28;01mFalse\u001B[39;00m)\n\u001B[1;32m     38\u001B[0m     mask \u001B[38;5;241m=\u001B[39m isna(values)\n\u001B[0;32m---> 39\u001B[0m     \u001B[38;5;28;01mreturn\u001B[39;00m \u001B[43mquantile_with_mask\u001B[49m\u001B[43m(\u001B[49m\u001B[43mvalues\u001B[49m\u001B[43m,\u001B[49m\u001B[43m \u001B[49m\u001B[43mmask\u001B[49m\u001B[43m,\u001B[49m\u001B[43m \u001B[49m\u001B[43mfill_value\u001B[49m\u001B[43m,\u001B[49m\u001B[43m \u001B[49m\u001B[43mqs\u001B[49m\u001B[43m,\u001B[49m\u001B[43m \u001B[49m\u001B[43minterpolation\u001B[49m\u001B[43m)\u001B[49m\n\u001B[1;32m     40\u001B[0m \u001B[38;5;28;01melse\u001B[39;00m:\n\u001B[1;32m     41\u001B[0m     \u001B[38;5;28;01mreturn\u001B[39;00m values\u001B[38;5;241m.\u001B[39m_quantile(qs, interpolation)\n",
      "File \u001B[0;32m/Library/Frameworks/Python.framework/Versions/3.10/lib/python3.10/site-packages/pandas/core/array_algos/quantile.py:97\u001B[0m, in \u001B[0;36mquantile_with_mask\u001B[0;34m(values, mask, fill_value, qs, interpolation)\u001B[0m\n\u001B[1;32m     95\u001B[0m     result \u001B[38;5;241m=\u001B[39m np\u001B[38;5;241m.\u001B[39mrepeat(flat, \u001B[38;5;28mlen\u001B[39m(values))\u001B[38;5;241m.\u001B[39mreshape(\u001B[38;5;28mlen\u001B[39m(values), \u001B[38;5;28mlen\u001B[39m(qs))\n\u001B[1;32m     96\u001B[0m \u001B[38;5;28;01melse\u001B[39;00m:\n\u001B[0;32m---> 97\u001B[0m     result \u001B[38;5;241m=\u001B[39m \u001B[43m_nanpercentile\u001B[49m\u001B[43m(\u001B[49m\n\u001B[1;32m     98\u001B[0m \u001B[43m        \u001B[49m\u001B[43mvalues\u001B[49m\u001B[43m,\u001B[49m\n\u001B[1;32m     99\u001B[0m \u001B[43m        \u001B[49m\u001B[43mqs\u001B[49m\u001B[43m \u001B[49m\u001B[38;5;241;43m*\u001B[39;49m\u001B[43m \u001B[49m\u001B[38;5;241;43m100.0\u001B[39;49m\u001B[43m,\u001B[49m\n\u001B[1;32m    100\u001B[0m \u001B[43m        \u001B[49m\u001B[43mna_value\u001B[49m\u001B[38;5;241;43m=\u001B[39;49m\u001B[43mfill_value\u001B[49m\u001B[43m,\u001B[49m\n\u001B[1;32m    101\u001B[0m \u001B[43m        \u001B[49m\u001B[43mmask\u001B[49m\u001B[38;5;241;43m=\u001B[39;49m\u001B[43mmask\u001B[49m\u001B[43m,\u001B[49m\n\u001B[1;32m    102\u001B[0m \u001B[43m        \u001B[49m\u001B[43minterpolation\u001B[49m\u001B[38;5;241;43m=\u001B[39;49m\u001B[43minterpolation\u001B[49m\u001B[43m,\u001B[49m\n\u001B[1;32m    103\u001B[0m \u001B[43m    \u001B[49m\u001B[43m)\u001B[49m\n\u001B[1;32m    105\u001B[0m     result \u001B[38;5;241m=\u001B[39m np\u001B[38;5;241m.\u001B[39marray(result, copy\u001B[38;5;241m=\u001B[39m\u001B[38;5;28;01mFalse\u001B[39;00m)\n\u001B[1;32m    106\u001B[0m     result \u001B[38;5;241m=\u001B[39m result\u001B[38;5;241m.\u001B[39mT\n",
      "File \u001B[0;32m/Library/Frameworks/Python.framework/Versions/3.10/lib/python3.10/site-packages/pandas/core/array_algos/quantile.py:218\u001B[0m, in \u001B[0;36m_nanpercentile\u001B[0;34m(values, qs, na_value, mask, interpolation)\u001B[0m\n\u001B[1;32m    216\u001B[0m     \u001B[38;5;28;01mreturn\u001B[39;00m result\n\u001B[1;32m    217\u001B[0m \u001B[38;5;28;01melse\u001B[39;00m:\n\u001B[0;32m--> 218\u001B[0m     \u001B[38;5;28;01mreturn\u001B[39;00m \u001B[43mnp\u001B[49m\u001B[38;5;241;43m.\u001B[39;49m\u001B[43mpercentile\u001B[49m\u001B[43m(\u001B[49m\n\u001B[1;32m    219\u001B[0m \u001B[43m        \u001B[49m\u001B[43mvalues\u001B[49m\u001B[43m,\u001B[49m\n\u001B[1;32m    220\u001B[0m \u001B[43m        \u001B[49m\u001B[43mqs\u001B[49m\u001B[43m,\u001B[49m\n\u001B[1;32m    221\u001B[0m \u001B[43m        \u001B[49m\u001B[43maxis\u001B[49m\u001B[38;5;241;43m=\u001B[39;49m\u001B[38;5;241;43m1\u001B[39;49m\u001B[43m,\u001B[49m\n\u001B[1;32m    222\u001B[0m \u001B[43m        \u001B[49m\u001B[38;5;66;43;03m# error: No overload variant of \"percentile\" matches argument types\u001B[39;49;00m\n\u001B[1;32m    223\u001B[0m \u001B[43m        \u001B[49m\u001B[38;5;66;43;03m# \"ndarray[Any, Any]\", \"ndarray[Any, dtype[floating[_64Bit]]]\",\u001B[39;49;00m\n\u001B[1;32m    224\u001B[0m \u001B[43m        \u001B[49m\u001B[38;5;66;43;03m# \"int\", \"Dict[str, str]\"  [call-overload]\u001B[39;49;00m\n\u001B[1;32m    225\u001B[0m \u001B[43m        \u001B[49m\u001B[43mmethod\u001B[49m\u001B[38;5;241;43m=\u001B[39;49m\u001B[43minterpolation\u001B[49m\u001B[43m,\u001B[49m\u001B[43m  \u001B[49m\u001B[38;5;66;43;03m# type: ignore[call-overload]\u001B[39;49;00m\n\u001B[1;32m    226\u001B[0m \u001B[43m    \u001B[49m\u001B[43m)\u001B[49m\n",
      "File \u001B[0;32m<__array_function__ internals>:200\u001B[0m, in \u001B[0;36mpercentile\u001B[0;34m(*args, **kwargs)\u001B[0m\n",
      "File \u001B[0;32m/Library/Frameworks/Python.framework/Versions/3.10/lib/python3.10/site-packages/numpy/lib/function_base.py:4205\u001B[0m, in \u001B[0;36mpercentile\u001B[0;34m(a, q, axis, out, overwrite_input, method, keepdims, interpolation)\u001B[0m\n\u001B[1;32m   4203\u001B[0m \u001B[38;5;28;01mif\u001B[39;00m \u001B[38;5;129;01mnot\u001B[39;00m _quantile_is_valid(q):\n\u001B[1;32m   4204\u001B[0m     \u001B[38;5;28;01mraise\u001B[39;00m \u001B[38;5;167;01mValueError\u001B[39;00m(\u001B[38;5;124m\"\u001B[39m\u001B[38;5;124mPercentiles must be in the range [0, 100]\u001B[39m\u001B[38;5;124m\"\u001B[39m)\n\u001B[0;32m-> 4205\u001B[0m \u001B[38;5;28;01mreturn\u001B[39;00m \u001B[43m_quantile_unchecked\u001B[49m\u001B[43m(\u001B[49m\n\u001B[1;32m   4206\u001B[0m \u001B[43m    \u001B[49m\u001B[43ma\u001B[49m\u001B[43m,\u001B[49m\u001B[43m \u001B[49m\u001B[43mq\u001B[49m\u001B[43m,\u001B[49m\u001B[43m \u001B[49m\u001B[43maxis\u001B[49m\u001B[43m,\u001B[49m\u001B[43m \u001B[49m\u001B[43mout\u001B[49m\u001B[43m,\u001B[49m\u001B[43m \u001B[49m\u001B[43moverwrite_input\u001B[49m\u001B[43m,\u001B[49m\u001B[43m \u001B[49m\u001B[43mmethod\u001B[49m\u001B[43m,\u001B[49m\u001B[43m \u001B[49m\u001B[43mkeepdims\u001B[49m\u001B[43m)\u001B[49m\n",
      "File \u001B[0;32m/Library/Frameworks/Python.framework/Versions/3.10/lib/python3.10/site-packages/numpy/lib/function_base.py:4473\u001B[0m, in \u001B[0;36m_quantile_unchecked\u001B[0;34m(a, q, axis, out, overwrite_input, method, keepdims)\u001B[0m\n\u001B[1;32m   4465\u001B[0m \u001B[38;5;28;01mdef\u001B[39;00m \u001B[38;5;21m_quantile_unchecked\u001B[39m(a,\n\u001B[1;32m   4466\u001B[0m                         q,\n\u001B[1;32m   4467\u001B[0m                         axis\u001B[38;5;241m=\u001B[39m\u001B[38;5;28;01mNone\u001B[39;00m,\n\u001B[0;32m   (...)\u001B[0m\n\u001B[1;32m   4470\u001B[0m                         method\u001B[38;5;241m=\u001B[39m\u001B[38;5;124m\"\u001B[39m\u001B[38;5;124mlinear\u001B[39m\u001B[38;5;124m\"\u001B[39m,\n\u001B[1;32m   4471\u001B[0m                         keepdims\u001B[38;5;241m=\u001B[39m\u001B[38;5;28;01mFalse\u001B[39;00m):\n\u001B[1;32m   4472\u001B[0m \u001B[38;5;250m    \u001B[39m\u001B[38;5;124;03m\"\"\"Assumes that q is in [0, 1], and is an ndarray\"\"\"\u001B[39;00m\n\u001B[0;32m-> 4473\u001B[0m     \u001B[38;5;28;01mreturn\u001B[39;00m \u001B[43m_ureduce\u001B[49m\u001B[43m(\u001B[49m\u001B[43ma\u001B[49m\u001B[43m,\u001B[49m\n\u001B[1;32m   4474\u001B[0m \u001B[43m                    \u001B[49m\u001B[43mfunc\u001B[49m\u001B[38;5;241;43m=\u001B[39;49m\u001B[43m_quantile_ureduce_func\u001B[49m\u001B[43m,\u001B[49m\n\u001B[1;32m   4475\u001B[0m \u001B[43m                    \u001B[49m\u001B[43mq\u001B[49m\u001B[38;5;241;43m=\u001B[39;49m\u001B[43mq\u001B[49m\u001B[43m,\u001B[49m\n\u001B[1;32m   4476\u001B[0m \u001B[43m                    \u001B[49m\u001B[43mkeepdims\u001B[49m\u001B[38;5;241;43m=\u001B[39;49m\u001B[43mkeepdims\u001B[49m\u001B[43m,\u001B[49m\n\u001B[1;32m   4477\u001B[0m \u001B[43m                    \u001B[49m\u001B[43maxis\u001B[49m\u001B[38;5;241;43m=\u001B[39;49m\u001B[43maxis\u001B[49m\u001B[43m,\u001B[49m\n\u001B[1;32m   4478\u001B[0m \u001B[43m                    \u001B[49m\u001B[43mout\u001B[49m\u001B[38;5;241;43m=\u001B[39;49m\u001B[43mout\u001B[49m\u001B[43m,\u001B[49m\n\u001B[1;32m   4479\u001B[0m \u001B[43m                    \u001B[49m\u001B[43moverwrite_input\u001B[49m\u001B[38;5;241;43m=\u001B[39;49m\u001B[43moverwrite_input\u001B[49m\u001B[43m,\u001B[49m\n\u001B[1;32m   4480\u001B[0m \u001B[43m                    \u001B[49m\u001B[43mmethod\u001B[49m\u001B[38;5;241;43m=\u001B[39;49m\u001B[43mmethod\u001B[49m\u001B[43m)\u001B[49m\n",
      "File \u001B[0;32m/Library/Frameworks/Python.framework/Versions/3.10/lib/python3.10/site-packages/numpy/lib/function_base.py:3752\u001B[0m, in \u001B[0;36m_ureduce\u001B[0;34m(a, func, keepdims, **kwargs)\u001B[0m\n\u001B[1;32m   3749\u001B[0m             index_out \u001B[38;5;241m=\u001B[39m (\u001B[38;5;241m0\u001B[39m, ) \u001B[38;5;241m*\u001B[39m nd\n\u001B[1;32m   3750\u001B[0m             kwargs[\u001B[38;5;124m'\u001B[39m\u001B[38;5;124mout\u001B[39m\u001B[38;5;124m'\u001B[39m] \u001B[38;5;241m=\u001B[39m out[(\u001B[38;5;28mEllipsis\u001B[39m, ) \u001B[38;5;241m+\u001B[39m index_out]\n\u001B[0;32m-> 3752\u001B[0m r \u001B[38;5;241m=\u001B[39m \u001B[43mfunc\u001B[49m\u001B[43m(\u001B[49m\u001B[43ma\u001B[49m\u001B[43m,\u001B[49m\u001B[43m \u001B[49m\u001B[38;5;241;43m*\u001B[39;49m\u001B[38;5;241;43m*\u001B[39;49m\u001B[43mkwargs\u001B[49m\u001B[43m)\u001B[49m\n\u001B[1;32m   3754\u001B[0m \u001B[38;5;28;01mif\u001B[39;00m out \u001B[38;5;129;01mis\u001B[39;00m \u001B[38;5;129;01mnot\u001B[39;00m \u001B[38;5;28;01mNone\u001B[39;00m:\n\u001B[1;32m   3755\u001B[0m     \u001B[38;5;28;01mreturn\u001B[39;00m out\n",
      "File \u001B[0;32m/Library/Frameworks/Python.framework/Versions/3.10/lib/python3.10/site-packages/numpy/lib/function_base.py:4639\u001B[0m, in \u001B[0;36m_quantile_ureduce_func\u001B[0;34m(a, q, axis, out, overwrite_input, method)\u001B[0m\n\u001B[1;32m   4637\u001B[0m     \u001B[38;5;28;01melse\u001B[39;00m:\n\u001B[1;32m   4638\u001B[0m         arr \u001B[38;5;241m=\u001B[39m a\u001B[38;5;241m.\u001B[39mcopy()\n\u001B[0;32m-> 4639\u001B[0m result \u001B[38;5;241m=\u001B[39m \u001B[43m_quantile\u001B[49m\u001B[43m(\u001B[49m\u001B[43marr\u001B[49m\u001B[43m,\u001B[49m\n\u001B[1;32m   4640\u001B[0m \u001B[43m                   \u001B[49m\u001B[43mquantiles\u001B[49m\u001B[38;5;241;43m=\u001B[39;49m\u001B[43mq\u001B[49m\u001B[43m,\u001B[49m\n\u001B[1;32m   4641\u001B[0m \u001B[43m                   \u001B[49m\u001B[43maxis\u001B[49m\u001B[38;5;241;43m=\u001B[39;49m\u001B[43maxis\u001B[49m\u001B[43m,\u001B[49m\n\u001B[1;32m   4642\u001B[0m \u001B[43m                   \u001B[49m\u001B[43mmethod\u001B[49m\u001B[38;5;241;43m=\u001B[39;49m\u001B[43mmethod\u001B[49m\u001B[43m,\u001B[49m\n\u001B[1;32m   4643\u001B[0m \u001B[43m                   \u001B[49m\u001B[43mout\u001B[49m\u001B[38;5;241;43m=\u001B[39;49m\u001B[43mout\u001B[49m\u001B[43m)\u001B[49m\n\u001B[1;32m   4644\u001B[0m \u001B[38;5;28;01mreturn\u001B[39;00m result\n",
      "File \u001B[0;32m/Library/Frameworks/Python.framework/Versions/3.10/lib/python3.10/site-packages/numpy/lib/function_base.py:4756\u001B[0m, in \u001B[0;36m_quantile\u001B[0;34m(arr, quantiles, axis, method, out)\u001B[0m\n\u001B[1;32m   4754\u001B[0m     result_shape \u001B[38;5;241m=\u001B[39m virtual_indexes\u001B[38;5;241m.\u001B[39mshape \u001B[38;5;241m+\u001B[39m (\u001B[38;5;241m1\u001B[39m,) \u001B[38;5;241m*\u001B[39m (arr\u001B[38;5;241m.\u001B[39mndim \u001B[38;5;241m-\u001B[39m \u001B[38;5;241m1\u001B[39m)\n\u001B[1;32m   4755\u001B[0m     gamma \u001B[38;5;241m=\u001B[39m gamma\u001B[38;5;241m.\u001B[39mreshape(result_shape)\n\u001B[0;32m-> 4756\u001B[0m     result \u001B[38;5;241m=\u001B[39m \u001B[43m_lerp\u001B[49m\u001B[43m(\u001B[49m\u001B[43mprevious\u001B[49m\u001B[43m,\u001B[49m\n\u001B[1;32m   4757\u001B[0m \u001B[43m                   \u001B[49m\u001B[38;5;28;43mnext\u001B[39;49m\u001B[43m,\u001B[49m\n\u001B[1;32m   4758\u001B[0m \u001B[43m                   \u001B[49m\u001B[43mgamma\u001B[49m\u001B[43m,\u001B[49m\n\u001B[1;32m   4759\u001B[0m \u001B[43m                   \u001B[49m\u001B[43mout\u001B[49m\u001B[38;5;241;43m=\u001B[39;49m\u001B[43mout\u001B[49m\u001B[43m)\u001B[49m\n\u001B[1;32m   4760\u001B[0m \u001B[38;5;28;01mif\u001B[39;00m np\u001B[38;5;241m.\u001B[39many(slices_having_nans):\n\u001B[1;32m   4761\u001B[0m     \u001B[38;5;28;01mif\u001B[39;00m result\u001B[38;5;241m.\u001B[39mndim \u001B[38;5;241m==\u001B[39m \u001B[38;5;241m0\u001B[39m \u001B[38;5;129;01mand\u001B[39;00m out \u001B[38;5;129;01mis\u001B[39;00m \u001B[38;5;28;01mNone\u001B[39;00m:\n\u001B[1;32m   4762\u001B[0m         \u001B[38;5;66;03m# can't write to a scalar\u001B[39;00m\n",
      "File \u001B[0;32m/Library/Frameworks/Python.framework/Versions/3.10/lib/python3.10/site-packages/numpy/lib/function_base.py:4573\u001B[0m, in \u001B[0;36m_lerp\u001B[0;34m(a, b, t, out)\u001B[0m\n\u001B[1;32m   4559\u001B[0m \u001B[38;5;28;01mdef\u001B[39;00m \u001B[38;5;21m_lerp\u001B[39m(a, b, t, out\u001B[38;5;241m=\u001B[39m\u001B[38;5;28;01mNone\u001B[39;00m):\n\u001B[1;32m   4560\u001B[0m \u001B[38;5;250m    \u001B[39m\u001B[38;5;124;03m\"\"\"\u001B[39;00m\n\u001B[1;32m   4561\u001B[0m \u001B[38;5;124;03m    Compute the linear interpolation weighted by gamma on each point of\u001B[39;00m\n\u001B[1;32m   4562\u001B[0m \u001B[38;5;124;03m    two same shape array.\u001B[39;00m\n\u001B[0;32m   (...)\u001B[0m\n\u001B[1;32m   4571\u001B[0m \u001B[38;5;124;03m        Output array.\u001B[39;00m\n\u001B[1;32m   4572\u001B[0m \u001B[38;5;124;03m    \"\"\"\u001B[39;00m\n\u001B[0;32m-> 4573\u001B[0m     diff_b_a \u001B[38;5;241m=\u001B[39m \u001B[43msubtract\u001B[49m\u001B[43m(\u001B[49m\u001B[43mb\u001B[49m\u001B[43m,\u001B[49m\u001B[43m \u001B[49m\u001B[43ma\u001B[49m\u001B[43m)\u001B[49m\n\u001B[1;32m   4574\u001B[0m     \u001B[38;5;66;03m# asanyarray is a stop-gap until gh-13105\u001B[39;00m\n\u001B[1;32m   4575\u001B[0m     lerp_interpolation \u001B[38;5;241m=\u001B[39m asanyarray(add(a, diff_b_a \u001B[38;5;241m*\u001B[39m t, out\u001B[38;5;241m=\u001B[39mout))\n",
      "\u001B[0;31mTypeError\u001B[0m: unsupported operand type(s) for -: 'str' and 'str'"
     ]
    }
   ],
   "execution_count": 34
  },
  {
   "metadata": {
    "ExecuteTime": {
     "end_time": "2024-09-14T11:12:43.713872Z",
     "start_time": "2024-09-14T11:12:43.707645Z"
    }
   },
   "cell_type": "code",
   "source": "df_encoded = pd.get_dummies(df)",
   "outputs": [],
   "execution_count": 37
  },
  {
   "metadata": {
    "ExecuteTime": {
     "end_time": "2024-09-14T11:12:44.807328Z",
     "start_time": "2024-09-14T11:12:44.805555Z"
    }
   },
   "cell_type": "code",
   "source": "",
   "outputs": [],
   "execution_count": 37
  },
  {
   "cell_type": "markdown",
   "source": [
    "## Modeling"
   ],
   "metadata": {
    "id": "wNgTn3kYvipX"
   }
  },
  {
   "cell_type": "markdown",
   "source": [
    "다음 4가지 모델의 성능을 비교해주세요.\n",
    "- Decision Tree\n",
    "- Random Forest\n",
    "- Adaboost\n",
    "- Gradientboosting\n",
    "- 이외 다른 ensemble 모델을 사용하셔도 됩니다!\n"
   ],
   "metadata": {
    "id": "1zRYeknLxTnw"
   }
  },
  {
   "cell_type": "code",
   "source": [
    "from sklearn.model_selection import train_test_split\n",
    "from sklearn.metrics import accuracy_score\n",
    "from sklearn.tree import DecisionTreeClassifier\n",
    "from sklearn.ensemble import RandomForestClassifier, AdaBoostClassifier, GradientBoostingClassifier\n",
    "\n",
    "# 타깃 변수와 독립 변수 설정\n",
    "X = df_encoded.drop('Customer_Age', axis=1)\n",
    "y = df_encoded['Months_on_book']\n",
    "\n",
    "# 훈련/테스트 데이터 분할\n",
    "X_train, X_test, y_train, y_test = train_test_split(X, y, test_size=0.2, random_state=42)"
   ],
   "metadata": {
    "id": "ZJK2DD3xvgTE",
    "ExecuteTime": {
     "end_time": "2024-09-14T11:12:55.250011Z",
     "start_time": "2024-09-14T11:12:55.243218Z"
    }
   },
   "outputs": [],
   "execution_count": 38
  },
  {
   "cell_type": "code",
   "source": [
    "# 결정 트리 모델\n",
    "decision_tree = DecisionTreeClassifier(random_state=42)\n",
    "decision_tree.fit(X_train, y_train)\n",
    "\n",
    "# 예측 및 정확도 평가\n",
    "y_pred_dt = decision_tree.predict(X_test)\n",
    "accuracy_dt = accuracy_score(y_test, y_pred_dt)\n",
    "print(f\"Decision Tree Accuracy: {accuracy_dt}\")"
   ],
   "metadata": {
    "id": "ShKEe23yxdqN",
    "ExecuteTime": {
     "end_time": "2024-09-14T11:12:55.690970Z",
     "start_time": "2024-09-14T11:12:55.640579Z"
    }
   },
   "outputs": [
    {
     "name": "stdout",
     "output_type": "stream",
     "text": [
      "Decision Tree Accuracy: 1.0\n"
     ]
    }
   ],
   "execution_count": 39
  },
  {
   "metadata": {
    "ExecuteTime": {
     "end_time": "2024-09-14T11:12:57.782435Z",
     "start_time": "2024-09-14T11:12:56.530301Z"
    }
   },
   "cell_type": "code",
   "source": [
    "# 랜덤 포레스트 모델\n",
    "random_forest = RandomForestClassifier(n_estimators=100, random_state=42)\n",
    "random_forest.fit(X_train, y_train)\n",
    "\n",
    "# 예측 및 정확도 평가\n",
    "y_pred_rf = random_forest.predict(X_test)\n",
    "accuracy_rf = accuracy_score(y_test, y_pred_rf)\n",
    "print(f\"Random Forest Accuracy: {accuracy_rf}\")"
   ],
   "outputs": [
    {
     "name": "stdout",
     "output_type": "stream",
     "text": [
      "Random Forest Accuracy: 0.7428430404738401\n"
     ]
    }
   ],
   "execution_count": 40
  },
  {
   "metadata": {
    "ExecuteTime": {
     "end_time": "2024-09-14T11:12:58.294306Z",
     "start_time": "2024-09-14T11:12:57.783496Z"
    }
   },
   "cell_type": "code",
   "source": [
    "# AdaBoost 모델\n",
    "adaboost = AdaBoostClassifier(n_estimators=50, random_state=42)\n",
    "adaboost.fit(X_train, y_train)\n",
    "\n",
    "# 예측 및 정확도 평가\n",
    "y_pred_ada = adaboost.predict(X_test)\n",
    "accuracy_ada = accuracy_score(y_test, y_pred_ada)\n",
    "print(f\"AdaBoost Accuracy: {accuracy_ada}\")"
   ],
   "outputs": [
    {
     "name": "stderr",
     "output_type": "stream",
     "text": [
      "/Library/Frameworks/Python.framework/Versions/3.10/lib/python3.10/site-packages/sklearn/ensemble/_weight_boosting.py:519: FutureWarning: The SAMME.R algorithm (the default) is deprecated and will be removed in 1.6. Use the SAMME algorithm to circumvent this warning.\n",
      "  warnings.warn(\n"
     ]
    },
    {
     "name": "stdout",
     "output_type": "stream",
     "text": [
      "AdaBoost Accuracy: 0.45360315893385983\n"
     ]
    }
   ],
   "execution_count": 41
  },
  {
   "metadata": {
    "ExecuteTime": {
     "end_time": "2024-09-14T11:14:28.994183Z",
     "start_time": "2024-09-14T11:13:43.783615Z"
    }
   },
   "cell_type": "code",
   "source": [
    "# Gradient Boosting 모델\n",
    "gradient_boost = GradientBoostingClassifier(n_estimators=100, random_state=42)\n",
    "gradient_boost.fit(X_train, y_train)\n",
    "\n",
    "# 예측 및 정확도 평가\n",
    "y_pred_gb = gradient_boost.predict(X_test)\n",
    "accuracy_gb = accuracy_score(y_test, y_pred_gb)\n",
    "print(f\"Gradient Boosting Accuracy: {accuracy_gb}\")"
   ],
   "outputs": [
    {
     "name": "stdout",
     "output_type": "stream",
     "text": [
      "Gradient Boosting Accuracy: 1.0\n"
     ]
    }
   ],
   "execution_count": 43
  },
  {
   "metadata": {
    "ExecuteTime": {
     "end_time": "2024-09-14T11:14:28.997279Z",
     "start_time": "2024-09-14T11:14:28.995089Z"
    }
   },
   "cell_type": "code",
   "source": [
    "print(\"Model Performance Comparison:\")\n",
    "print(f\"Decision Tree Accuracy: {accuracy_dt}\")\n",
    "print(f\"Random Forest Accuracy: {accuracy_rf}\")\n",
    "print(f\"AdaBoost Accuracy: {accuracy_ada}\")\n",
    "print(f\"Gradient Boosting Accuracy: {accuracy_gb}\")"
   ],
   "outputs": [
    {
     "name": "stdout",
     "output_type": "stream",
     "text": [
      "Model Performance Comparison:\n",
      "Decision Tree Accuracy: 1.0\n",
      "Random Forest Accuracy: 0.7428430404738401\n",
      "AdaBoost Accuracy: 0.45360315893385983\n",
      "Gradient Boosting Accuracy: 1.0\n"
     ]
    }
   ],
   "execution_count": 44
  },
  {
   "metadata": {},
   "cell_type": "code",
   "outputs": [],
   "execution_count": null,
   "source": ""
  }
 ]
}
