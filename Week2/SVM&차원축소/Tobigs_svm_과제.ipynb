{
 "cells": [
  {
   "cell_type": "code",
   "execution_count": null,
   "id": "1ee53277",
   "metadata": {},
   "outputs": [],
   "source": [
    "import time\n",
    "import numpy as np\n",
    "import pandas as pd\n",
    "import matplotlib.pyplot as plt\n",
    "from sklearn import datasets\n",
    "from sklearn.model_selection import train_test_split\n",
    "from sklearn.preprocessing import StandardScaler\n",
    "from sklearn.metrics import accuracy_score\n",
    "import warnings\n",
    "warnings.filterwarnings('ignore')"
   ]
  },
  {
   "cell_type": "code",
   "execution_count": null,
   "id": "a82216e2",
   "metadata": {},
   "outputs": [],
   "source": [
    "# MNIST 데이터셋 다운로드 (1분 가량 소요)\n",
    "mnist = datasets.fetch_openml('mnist_784', version=1)"
   ]
  },
  {
   "cell_type": "code",
   "execution_count": null,
   "id": "c4d1cc5d",
   "metadata": {},
   "outputs": [],
   "source": [
    "X, y = mnist.data, mnist.target\n",
    "y = y.apply(int)\n",
    "\n",
    "# 데이터 분할 및 스케일링\n",
    "X_train, X_test, y_train, y_test = train_test_split(X, y, test_size=0.2, random_state=42, stratify=y)\n",
    "\n",
    "scaler = StandardScaler()\n",
    "X_train = scaler.fit_transform(X_train)\n",
    "X_test = scaler.transform(X_test)\n",
    "\n",
    "X_train.shape, X_test.shape, y_train.shape, y_test.shape"
   ]
  },
  {
   "cell_type": "code",
   "execution_count": null,
   "id": "61d89129",
   "metadata": {},
   "outputs": [],
   "source": [
    "# 이진 분류용 훈련 데이터 준비\n",
    "def prepare_binary_classification_data(X, y, label1, label2):\n",
    "    binary_index = (y == label1) | (y == label2)\n",
    "    X_binary = X[binary_index]\n",
    "    y_binary = y[binary_index]\n",
    "    y_map = {label1: -1, label2: 1}\n",
    "    y_binary = np.array([y_map[label] for label in y_binary])\n",
    "    return X_binary, y_binary\n",
    "\n",
    "X_train_binary, y_train_binary = prepare_binary_classification_data(X_train, y_train, 3, 5)\n",
    "X_test_binary, y_test_binary = prepare_binary_classification_data(X_test, y_test, 3, 5)\n",
    "\n",
    "X_train_binary.shape, X_test_binary.shape, y_train_binary.shape, y_test_binary.shape"
   ]
  },
  {
   "cell_type": "code",
   "execution_count": null,
   "id": "9861d8a6",
   "metadata": {},
   "outputs": [],
   "source": [
    "# 데이터 시각화 \n",
    "n_classes = 10\n",
    "n_samples_per_class = 3\n",
    "samples_per_class = {i: [] for i in range(n_classes)}\n",
    "\n",
    "for digit in range(n_classes):\n",
    "    digit_indices = np.where(y == digit)[0]\n",
    "    selected_indices = np.random.choice(digit_indices, n_samples_per_class, replace=False)\n",
    "    samples_per_class[digit] = selected_indices\n",
    "\n",
    "plt.figure(figsize=(15, 10))\n",
    "for digit in range(n_classes):\n",
    "    for i in range(n_samples_per_class):\n",
    "        idx = samples_per_class[digit][i]\n",
    "        \n",
    "        plt.subplot(n_samples_per_class, n_classes, i * n_classes + digit + 1)\n",
    "        plt.imshow(X.iloc[idx].values.reshape(28, 28), cmap='gray')\n",
    "        if i == 0:\n",
    "            plt.title(f\"Digit: {digit}\")\n",
    "        plt.axis('off')\n",
    "\n",
    "plt.tight_layout()\n",
    "plt.show()"
   ]
  },
  {
   "cell_type": "markdown",
   "id": "21fb3bd1",
   "metadata": {},
   "source": [
    "## 1. SVM from scratch\n",
    "\n",
    "fit 함수의 가중치 업데이트 부분을 채워주세요! 가중치 업데이트 이외의 코드는 수정하면 안됩니다.\n",
    "\n",
    "조건: 분류 정확도 0.9 이상\n",
    "\n",
    "참고자료: https://towardsdatascience.com/support-vector-machine-introduction-to-machine-learning-algorithms-934a444fca47"
   ]
  },
  {
   "cell_type": "code",
   "execution_count": null,
   "id": "77b4bb5b",
   "metadata": {},
   "outputs": [],
   "source": [
    "class SVMClassifier:\n",
    "    def __init__(self, learning_rate=0.001, lambda_param=0.01, n_iters=1000):\n",
    "        # 이 부분은 수정하시면 안됩니다.\n",
    "        self.learning_rate = learning_rate\n",
    "        self.lambda_param = lambda_param\n",
    "        self.n_iters = n_iters\n",
    "        self.w = None\n",
    "        self.b = None\n",
    "        self.label_map = None\n",
    "        self.inverse_label_map = None\n",
    "\n",
    "    def fit(self, X, y):\n",
    "        # 이 부분은 수정하시면 안됩니다.\n",
    "        unique_labels = np.unique(y)\n",
    "        if len(unique_labels) != 2:\n",
    "            raise ValueError(\"This SVM implementation supports only binary classification.\")\n",
    "\n",
    "        self.label_map = {unique_labels[0]: -1, unique_labels[1]: 1}\n",
    "        self.inverse_label_map = {-1: unique_labels[0], 1: unique_labels[1]}\n",
    "        \n",
    "        y_ = np.array([self.label_map[label] for label in y])\n",
    "        \n",
    "        n_samples, n_features = X.shape\n",
    "        self.w = np.zeros(n_features)\n",
    "        self.b = 0\n",
    "\n",
    "\n",
    "        # 이 부분을 채워주세요.\n",
    "        for _ in range(self.n_iters):\n",
    "            for idx, x_i in enumerate(X):\n",
    "                condition = ########## 조건을 채워주세요 ##########\n",
    "                if condition:\n",
    "                    self.w -= ########## w를 업데이트 해주세요 ##########\n",
    "                else:\n",
    "                    self.w -= ########## w를 업데이트 해주세요 ##########\n",
    "                    self.b += ########## b를 업데이트 해주세요 ##########\n",
    "\n",
    "\n",
    "    def predict(self, X):\n",
    "        #### predict 함수를 채워주세요 ####"
   ]
  },
  {
   "cell_type": "code",
   "execution_count": null,
   "id": "f0701695",
   "metadata": {},
   "outputs": [],
   "source": [
    "svm = SVMClassifier()\n",
    "\n",
    "fit_start = time.time()\n",
    "svm.fit(X_train_binary, y_train_binary)\n",
    "fit_end = time.time()\n",
    "\n",
    "pred_start = time.time()\n",
    "pred = svm.predict(X_test_binary)\n",
    "pred_end = time.time()\n",
    "\n",
    "print(f\"Accuracy: {accuracy_score(y_test_binary, pred)}\")\n",
    "print(f\"Fitting time: {fit_end - fit_start} seconds\")\n",
    "print(f\"Prediction Time: {pred_end - pred_start} seconds\")"
   ]
  },
  {
   "cell_type": "markdown",
   "id": "3fa34bd6",
   "metadata": {},
   "source": [
    "## 2. Dimensionality Reduction\n",
    "\n",
    "PCA와 LDA를 활용하여 데이터 차원을 축소한 뒤, 모델 학습을 진행해주세요!"
   ]
  },
  {
   "cell_type": "markdown",
   "id": "262dfcf3",
   "metadata": {},
   "source": [
    "PCA 적용하기"
   ]
  },
  {
   "cell_type": "code",
   "execution_count": null,
   "id": "c57fe19e",
   "metadata": {},
   "outputs": [],
   "source": [
    "from sklearn.decomposition import PCA\n",
    "\n",
    "# PCA를 사용하여 X_train_binary의 차원을 축소해주세요.\n",
    "\n",
    "pca = #### PCA 객체를 생성해주세요 ####\n",
    "X_train_pca = #### PCA를 사용하여 X_train_binary의 차원을 축소해주세요 ####\n",
    "X_test_pca = #### PCA를 사용하여 X_test_binary의 차원을 축소해주세요 ####\n",
    "\n",
    "print(X_train_pca.shape, X_test_pca.shape)\n",
    "\n",
    "svm = SVMClassifier()\n",
    "fit_start = time.time()\n",
    "svm.fit(X_train_pca, y_train_binary)\n",
    "fit_end = time.time()\n",
    "\n",
    "pred_start = time.time()\n",
    "pred = svm.predict(X_test_pca)\n",
    "pred_end = time.time()\n",
    "\n",
    "print(f\"Accuracy: {accuracy_score(y_test_binary, pred)}\")\n",
    "print(f\"Fitting time: {fit_end - fit_start} seconds\")\n",
    "print(f\"Prediction Time: {pred_end - pred_start} seconds\")"
   ]
  },
  {
   "cell_type": "markdown",
   "id": "f4b1adb3",
   "metadata": {},
   "source": [
    "LDA 적용하기"
   ]
  },
  {
   "cell_type": "code",
   "execution_count": null,
   "id": "f48aaedb",
   "metadata": {},
   "outputs": [],
   "source": [
    "from sklearn.discriminant_analysis import LinearDiscriminantAnalysis\n",
    "\n",
    "lda = #### LDA 객체를 생성해주세요 ####\n",
    "X_train_lda = #### LDA를 사용하여 X_train_binary의 차원을 축소해주세요 ####\n",
    "X_test_lda = #### LDA를 사용하여 X_test_binary의 차원을 축소해주세요 ####\n",
    "\n",
    "print(X_train_lda.shape, X_test_lda.shape)\n",
    "\n",
    "svm = SVMClassifier()\n",
    "fit_start = time.time()\n",
    "svm.fit(X_train_lda, y_train_binary)\n",
    "fit_end = time.time()\n",
    "\n",
    "pred_start = time.time()\n",
    "pred = svm.predict(X_test_lda)\n",
    "pred_end = time.time()\n",
    "\n",
    "print(f\"Accuracy: {accuracy_score(y_test_binary, pred)}\")\n",
    "print(f\"Fitting time: {fit_end - fit_start} seconds\")\n",
    "print(f\"Prediction Time: {pred_end - pred_start} seconds\")"
   ]
  },
  {
   "cell_type": "markdown",
   "id": "ad02a21a",
   "metadata": {},
   "source": [
    "## 3. Multiclass SVM\n",
    "\n",
    "OvO (One vs One) 방법론을 사용하여 Multiclass svm classifier를 구현해주세요!"
   ]
  },
  {
   "cell_type": "code",
   "execution_count": null,
   "id": "e7ff3da9",
   "metadata": {},
   "outputs": [],
   "source": [
    "# 학습 효율성을 위해 데이터셋의 일부만 사용\n",
    "mnist_df = pd.concat([mnist.data, mnist.target], axis=1)\n",
    "mnist_df = mnist_df.groupby('class').apply(lambda x: x.sample(frac=0.01, random_state=42)).reset_index(drop=True)\n",
    "\n",
    "X, y = mnist_df.drop('class', axis=1), mnist_df['class']\n",
    "y = y.apply(int)\n",
    "\n",
    "# 데이터 분할 및 스케일링\n",
    "X_train, X_test, y_train, y_test = train_test_split(X, y, test_size=0.2, random_state=42, stratify=y)\n",
    "\n",
    "scaler = StandardScaler()\n",
    "X_train = scaler.fit_transform(X_train)\n",
    "X_test = scaler.transform(X_test)\n",
    "\n",
    "X_train.shape, X_test.shape, y_train.shape, y_test.shape"
   ]
  },
  {
   "cell_type": "code",
   "execution_count": null,
   "id": "f5f79b39",
   "metadata": {},
   "outputs": [],
   "source": [
    "y_train.unique()"
   ]
  },
  {
   "cell_type": "code",
   "execution_count": null,
   "id": "5983c49c",
   "metadata": {},
   "outputs": [],
   "source": [
    "'''\n",
    "위 데이터 (X_train, X_test, y_train, y_test)와 앞서 구현한 SVMClassifier를 사용하여 다중 클래스 분류를 수행해주세요.\n",
    "\n",
    "사이킷런 및 각종 패키지에서 제공하는 svm 모델은 사용하실 수 없습니다.\n",
    "'''"
   ]
  }
 ],
 "metadata": {
  "kernelspec": {
   "display_name": "Python 3",
   "language": "python",
   "name": "python3"
  },
  "language_info": {
   "codemirror_mode": {
    "name": "ipython",
    "version": 3
   },
   "file_extension": ".py",
   "mimetype": "text/x-python",
   "name": "python",
   "nbconvert_exporter": "python",
   "pygments_lexer": "ipython3",
   "version": "3.9.7"
  }
 },
 "nbformat": 4,
 "nbformat_minor": 5
}
