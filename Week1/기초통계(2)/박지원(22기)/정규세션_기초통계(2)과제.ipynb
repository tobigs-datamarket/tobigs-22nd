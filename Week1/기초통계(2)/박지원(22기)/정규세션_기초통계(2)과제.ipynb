{
  "nbformat": 4,
  "nbformat_minor": 5,
  "metadata": {
    "colab": {
      "provenance": [],
      "gpuType": "T4"
    },
    "kernelspec": {
      "name": "python3",
      "display_name": "Python 3"
    },
    "language_info": {
      "name": "python"
    },
    "accelerator": "GPU"
  },
  "cells": [
    {
      "cell_type": "markdown",
      "metadata": {
        "id": "Adw-5Rx02ohB"
      },
      "source": [
        "# Pytorch Session 2: Linear regression"
      ],
      "id": "Adw-5Rx02ohB"
    },
    {
      "cell_type": "code",
      "metadata": {
        "id": "sZ5KyFvM3bdS"
      },
      "source": [
        "import torch\n",
        "import numpy as np\n",
        "import pandas as pd\n",
        "import matplotlib.pyplot as plt"
      ],
      "id": "sZ5KyFvM3bdS",
      "execution_count": 26,
      "outputs": []
    },
    {
      "cell_type": "markdown",
      "metadata": {
        "id": "lYUwt5RBFUS0"
      },
      "source": [
        "## 1. Data Generation:\n"
      ],
      "id": "lYUwt5RBFUS0"
    },
    {
      "cell_type": "markdown",
      "metadata": {
        "id": "Ne4AmwinFUS8"
      },
      "source": [
        "Let us create the following expressions:\n"
      ],
      "id": "Ne4AmwinFUS8"
    },
    {
      "cell_type": "markdown",
      "metadata": {
        "id": "yVMK11q4FUS8"
      },
      "source": [
        "$b=-1,w=2$\n",
        "\n",
        "$\\hat{y}=wx+b$\n"
      ],
      "id": "yVMK11q4FUS8"
    },
    {
      "cell_type": "markdown",
      "metadata": {
        "id": "Ujs1awtUFUS8"
      },
      "source": [
        "First, define the parameters:\n"
      ],
      "id": "Ujs1awtUFUS8"
    },
    {
      "cell_type": "code",
      "source": [
        "w0 = torch.tensor(2.0)\n",
        "b0 = torch.tensor(-1.0)\n",
        "\n",
        "torch.manual_seed(2021)\n",
        "X = torch.arange(-3,3, 0.3).view(-1, 1)\n",
        "f = w0*X+b0\n",
        "print(X.shape, f.shape)\n",
        "\n",
        "Y = f + torch.randn(f.shape)\n",
        "\n",
        "import matplotlib.pyplot as plt\n",
        "plt.scatter(X.numpy(),Y.numpy())\n",
        "plt.plot(X.numpy(),f.numpy())"
      ],
      "metadata": {
        "colab": {
          "base_uri": "https://localhost:8080/",
          "height": 467
        },
        "id": "x47lK--O1sri",
        "outputId": "7af40a68-3475-4339-8105-0eca0675cd27"
      },
      "id": "x47lK--O1sri",
      "execution_count": 27,
      "outputs": [
        {
          "output_type": "stream",
          "name": "stdout",
          "text": [
            "torch.Size([20, 1]) torch.Size([20, 1])\n"
          ]
        },
        {
          "output_type": "execute_result",
          "data": {
            "text/plain": [
              "[<matplotlib.lines.Line2D at 0x79257e079450>]"
            ]
          },
          "metadata": {},
          "execution_count": 27
        },
        {
          "output_type": "display_data",
          "data": {
            "text/plain": [
              "<Figure size 640x480 with 1 Axes>"
            ],
            "image/png": "[encoded data removed]"
          },
          "metadata": {}
        }
      ]
    },
    {
      "cell_type": "markdown",
      "metadata": {
        "id": "9k4yI2P_Htjc"
      },
      "source": [
        "## 2. Linear regression model"
      ],
      "id": "9k4yI2P_Htjc"
    },
    {
      "cell_type": "markdown",
      "metadata": {
        "id": "3FknTBaFIUQj"
      },
      "source": [
        "You are given X and Y.\n",
        "\n",
        "Your goal is to find the best linear model to explain the relation between X and Y by minimizing the following\n",
        "\n",
        "$Loss(w, b)=\\sum\\limits_{i=1}^{n}(Y_i-Yhat_i)^2$\n",
        "\n",
        "where\n",
        "\n",
        "$Yhat_i:=X_i*w +b$."
      ],
      "id": "3FknTBaFIUQj"
    },
    {
      "cell_type": "code",
      "source": [
        " # Yhat을 만드는 함수, X.shape: (n,1), w.shape:(1,1) , b.shape (1,1)\n",
        "\n",
        "def forward(x):\n",
        "  return x*w+b\n",
        "\n",
        "def loss_ftn(yhat, y):\n",
        "  return torch.mean((yhat-y)**2)\n",
        "\n",
        "torch.manual_seed(2023)\n",
        "# w,b의 초기점\n",
        "# w와 b는 param 1개이나, X*w를 할건데 이 차원이 [n,1]이 되도록 w를 [1,1]로 shape을 만들어줌\n",
        "w = torch.tensor(torch.randn([1,1]), requires_grad=True)\n",
        "b = torch.tensor(torch.randn([1,1]), requires_grad=True)\n",
        "\n",
        "print(w,b)\n",
        "\n",
        "\n",
        "# batch size없이 진행\n",
        "history = []\n",
        "lr = 0.1\n",
        "epochs = 100\n",
        "\n",
        "for _ in range(epochs):\n",
        "    yhat = forward(X)\n",
        "    loss = loss_ftn(yhat, Y)\n",
        "\n",
        "    # 미분\n",
        "    loss.backward()\n",
        "\n",
        "    #grad descent\n",
        "    with torch.no_grad():\n",
        "        w.data = w.data-lr*w.grad.data\n",
        "        b.data = b.data-lr*b.grad.data\n",
        "\n",
        "    # 미분값 비워줌.\n",
        "    w.grad = None\n",
        "    b.grad = None\n",
        "\n",
        "    history.append(loss.item())\n",
        "\n",
        "plt.plot(history)"
      ],
      "metadata": {
        "colab": {
          "base_uri": "https://localhost:8080/",
          "height": 540
        },
        "id": "bTvKiWdFhPBW",
        "outputId": "664ccb2f-7e60-4889-f6f0-1d00843f3b75"
      },
      "id": "bTvKiWdFhPBW",
      "execution_count": 28,
      "outputs": [
        {
          "output_type": "stream",
          "name": "stdout",
          "text": [
            "tensor([[-1.2075]], requires_grad=True) tensor([[0.5493]], requires_grad=True)\n"
          ]
        },
        {
          "output_type": "stream",
          "name": "stderr",
          "text": [
            "<ipython-input-28-8ae251b2332e>:12: UserWarning: To copy construct from a tensor, it is recommended to use sourceTensor.clone().detach() or sourceTensor.clone().detach().requires_grad_(True), rather than torch.tensor(sourceTensor).\n",
            "  w = torch.tensor(torch.randn([1,1]), requires_grad=True)\n",
            "<ipython-input-28-8ae251b2332e>:13: UserWarning: To copy construct from a tensor, it is recommended to use sourceTensor.clone().detach() or sourceTensor.clone().detach().requires_grad_(True), rather than torch.tensor(sourceTensor).\n",
            "  b = torch.tensor(torch.randn([1,1]), requires_grad=True)\n"
          ]
        },
        {
          "output_type": "execute_result",
          "data": {
            "text/plain": [
              "[<matplotlib.lines.Line2D at 0x79257deb9450>]"
            ]
          },
          "metadata": {},
          "execution_count": 28
        },
        {
          "output_type": "display_data",
          "data": {
            "text/plain": [
              "<Figure size 640x480 with 1 Axes>"
            ],
            "image/png": "[encoded data removed]"
          },
          "metadata": {}
        }
      ]
    },
    {
      "cell_type": "code",
      "source": [
        "print(w,b)"
      ],
      "metadata": {
        "colab": {
          "base_uri": "https://localhost:8080/"
        },
        "id": "72TZpzsZ0E-3",
        "outputId": "be8eb44e-8d91-425b-ec99-1e35b3d71034"
      },
      "id": "72TZpzsZ0E-3",
      "execution_count": 29,
      "outputs": [
        {
          "output_type": "stream",
          "name": "stdout",
          "text": [
            "tensor([[1.7149]], requires_grad=True) tensor([[-1.1823]], requires_grad=True)\n"
          ]
        }
      ]
    },
    {
      "cell_type": "code",
      "source": [
        "Yhat = forward(X)\n",
        "train_MSE = loss_ftn(Yhat, Y)\n",
        "train_MSE"
      ],
      "metadata": {
        "colab": {
          "base_uri": "https://localhost:8080/"
        },
        "id": "KJOqgA8Y32Cf",
        "outputId": "6f0565b5-69ce-411c-9082-f660e6f13a31"
      },
      "id": "KJOqgA8Y32Cf",
      "execution_count": 30,
      "outputs": [
        {
          "output_type": "execute_result",
          "data": {
            "text/plain": [
              "tensor(0.9533, grad_fn=<MeanBackward0>)"
            ]
          },
          "metadata": {},
          "execution_count": 30
        }
      ]
    },
    {
      "cell_type": "code",
      "source": [
        "print(w,b)"
      ],
      "metadata": {
        "colab": {
          "base_uri": "https://localhost:8080/"
        },
        "id": "85P6m13x3_fe",
        "outputId": "778c673d-b61b-48fa-a428-bb02a1368e05"
      },
      "id": "85P6m13x3_fe",
      "execution_count": 31,
      "outputs": [
        {
          "output_type": "stream",
          "name": "stdout",
          "text": [
            "tensor([[1.7149]], requires_grad=True) tensor([[-1.1823]], requires_grad=True)\n"
          ]
        }
      ]
    },
    {
      "cell_type": "markdown",
      "source": [
        "### 2.1 Further consideration:\n",
        "\n",
        "`[1] Pytorch function of `model`: torch.nn.linear`\n",
        "\n",
        "```\n",
        "def model(x):\n",
        "    return x @ beta\n",
        "```\n",
        "can be replaced by  \n",
        "```\n",
        "model = torch.nn.Linear(1, 1, bias=True)\n",
        "```\n",
        "\n",
        "`[2] torch.optim.SGD`\n",
        "\n",
        "Using the following optimizer\n",
        "`my_optimizer = torch.optim.SGD([w,b], lr=0.1)`, we can excute a gradient descent one time by the following command:\n",
        "\n",
        "1> Gradient descent\n",
        "\n",
        "`my_optimizer.step()`\n",
        "\n",
        "which is equivalent with\n",
        "` w.data = w.data-lr*w.grad.data`\n",
        "\n",
        "`b.data = b.data-lr*b.grad.data`\n",
        "\n",
        "2> Making zero-grad before differentiation\n",
        "\n",
        "`my_optimizer.zero_grad()`\n",
        "\n",
        "which is equivalent with\n",
        "\n",
        "`w.grad = None`\n",
        "\n",
        "`b.grad = None`"
      ],
      "metadata": {
        "id": "-whmINjP-fqO"
      },
      "id": "-whmINjP-fqO"
    },
    {
      "cell_type": "markdown",
      "source": [
        "### Exercise 2.1.1\n",
        "\n",
        "Train the same model above using `torch.optim.SGD` function."
      ],
      "metadata": {
        "id": "m0Me6ICQCiJV"
      },
      "id": "m0Me6ICQCiJV"
    },
    {
      "cell_type": "code",
      "source": [
        "def loss_ftn(yhat, y):\n",
        "    return torch.mean( (y-yhat)**2)"
      ],
      "metadata": {
        "id": "3BEmRLXKjf5n"
      },
      "id": "3BEmRLXKjf5n",
      "execution_count": 32,
      "outputs": []
    },
    {
      "cell_type": "markdown",
      "source": [
        "#### 데이터 초기화 및 yhat 추정 모델 학습을 위한 optimizer 생성"
      ],
      "metadata": {
        "id": "q1E4OhKnjtaA"
      },
      "id": "q1E4OhKnjtaA"
    },
    {
      "cell_type": "code",
      "source": [
        "# model\n",
        "model = torch.nn.Linear(1,1, bias = True)\n",
        "my_optimizer = torch.optim.SGD(model.parameters(), lr=0.1)\n",
        "\n",
        "history=[]\n",
        "lr=0.1\n",
        "for epoch in range(100):\n",
        "    Yhat = model(X)\n",
        "    loss = loss_ftn(Yhat,Y)\n",
        "\n",
        "    loss.backward()\n",
        "\n",
        "\n",
        "    #w.data = w.data-lr*w.grad.data\n",
        "    #b.data = b.data-lr*b.grad.data\n",
        "    my_optimizer.step()\n",
        "\n",
        "    # w.grad.data = None\n",
        "    # b.grad.data = None\n",
        "    my_optimizer.zero_grad()\n",
        "\n",
        "    history.append(loss.item())\n",
        "\n",
        "\n",
        "plt.plot(history)"
      ],
      "metadata": {
        "id": "UQKExA9zjnlu",
        "colab": {
          "base_uri": "https://localhost:8080/",
          "height": 448
        },
        "outputId": "811b438d-ca3d-4912-918a-6a849b9cd966"
      },
      "id": "UQKExA9zjnlu",
      "execution_count": 33,
      "outputs": [
        {
          "output_type": "execute_result",
          "data": {
            "text/plain": [
              "[<matplotlib.lines.Line2D at 0x79257dd2a590>]"
            ]
          },
          "metadata": {},
          "execution_count": 33
        },
        {
          "output_type": "display_data",
          "data": {
            "text/plain": [
              "<Figure size 640x480 with 1 Axes>"
            ],
            "image/png": "[encoded data removed]"
          },
          "metadata": {}
        }
      ]
    },
    {
      "cell_type": "markdown",
      "source": [
        "### hw: Use trainloader and complete process of training"
      ],
      "metadata": {
        "id": "AJ3i7wkwEFSg"
      },
      "id": "AJ3i7wkwEFSg"
    },
    {
      "cell_type": "code",
      "metadata": {
        "id": "xJQGBA18K6eV"
      },
      "source": [
        "from torch.utils.data import Dataset, DataLoader, TensorDataset\n",
        "dataset = TensorDataset(X,Y)\n",
        "trainloader=DataLoader(dataset = dataset, batch_size=5, shuffle=True)"
      ],
      "id": "xJQGBA18K6eV",
      "execution_count": 40,
      "outputs": []
    },
    {
      "cell_type": "code",
      "source": [
        "# model\n",
        "\n",
        "model = torch.nn.Linear(1,1, bias = True)\n",
        "my_optimizer = torch.optim.SGD(model.parameters(), lr=0.1)\n",
        "\n",
        "epochs=100\n",
        "history=[]\n",
        "n=len(X)\n",
        "\n",
        "\n",
        "for epoch in range(epochs):\n",
        "  LOSS_sum = 0\n",
        "  for xx, yy in trainloader:\n",
        "    yhat = model(xx)\n",
        "    loss = loss_ftn(yhat,yy )\n",
        "    LOSS_sum += loss\n",
        "\n",
        "    loss.backward()\n",
        "\n",
        "    my_optimizer.step()\n",
        "    my_optimizer.zero_grad()\n",
        "\n",
        "  history.append(LOSS_sum.item()/n)\n"
      ],
      "metadata": {
        "id": "OPgPuv8u2uD8"
      },
      "id": "OPgPuv8u2uD8",
      "execution_count": 44,
      "outputs": []
    },
    {
      "cell_type": "code",
      "source": [
        "plt.plot(history)"
      ],
      "metadata": {
        "colab": {
          "base_uri": "https://localhost:8080/",
          "height": 448
        },
        "id": "70v5FLt723R_",
        "outputId": "7af768e9-5433-437c-adb2-be779c0f6ab9"
      },
      "id": "70v5FLt723R_",
      "execution_count": 45,
      "outputs": [
        {
          "output_type": "execute_result",
          "data": {
            "text/plain": [
              "[<matplotlib.lines.Line2D at 0x79257dca9060>]"
            ]
          },
          "metadata": {},
          "execution_count": 45
        },
        {
          "output_type": "display_data",
          "data": {
            "text/plain": [
              "<Figure size 640x480 with 1 Axes>"
            ],
            "image/png": "[encoded data removed]"
          },
          "metadata": {}
        }
      ]
    },
    {
      "cell_type": "markdown",
      "source": [
        "# predict yhat when x = 3.0"
      ],
      "metadata": {
        "id": "j-NMDhg6GLny"
      },
      "id": "j-NMDhg6GLny"
    },
    {
      "cell_type": "code",
      "source": [
        "# m1\n",
        "xxx = torch.tensor([[3.0]])\n",
        "model(xxx)"
      ],
      "metadata": {
        "colab": {
          "base_uri": "https://localhost:8080/"
        },
        "id": "KurNFeQFz62R",
        "outputId": "3ac45864-7dad-43ba-feab-ca53832090ca"
      },
      "id": "KurNFeQFz62R",
      "execution_count": 46,
      "outputs": [
        {
          "output_type": "execute_result",
          "data": {
            "text/plain": [
              "tensor([[3.6657]], grad_fn=<AddmmBackward0>)"
            ]
          },
          "metadata": {},
          "execution_count": 46
        }
      ]
    },
    {
      "cell_type": "code",
      "source": [
        "# without model\n",
        "\n",
        "# step1. check model's parameter using model.state_dict()\n",
        "W = model.weight\n",
        "b = model.bias\n",
        "xxx @ W + b\n",
        "print(model.state_dict())"
      ],
      "metadata": {
        "colab": {
          "base_uri": "https://localhost:8080/"
        },
        "id": "VcibJn3q0CrQ",
        "outputId": "e6bafb07-db0e-4439-8ffc-6e602489cbab"
      },
      "id": "VcibJn3q0CrQ",
      "execution_count": 22,
      "outputs": [
        {
          "output_type": "stream",
          "name": "stdout",
          "text": [
            "OrderedDict([('weight', tensor([[1.7149]])), ('bias', tensor([-1.1823]))])\n"
          ]
        }
      ]
    },
    {
      "cell_type": "markdown",
      "source": [
        "# Loss: log-likehood function\n"
      ],
      "metadata": {
        "id": "_VkT3lPhRasP"
      },
      "id": "_VkT3lPhRasP"
    },
    {
      "cell_type": "markdown",
      "source": [
        "```\n",
        "def loss_ftn(yhat, y):\n",
        "    return torch.mean( (y-yhat)**2)\n",
        "```"
      ],
      "metadata": {
        "id": "rJT5bMnBRliW"
      },
      "id": "rJT5bMnBRliW"
    },
    {
      "cell_type": "code",
      "source": [
        "sigma = torch.tensor(10.0)\n",
        "def loss_ftn(yhat, y):\n",
        "    return torch.mean((y - yhat)**2) / (2 * sigma**2)\n",
        "\n",
        "\n",
        "model = torch.nn.Linear(1,1, bias = True)\n",
        "my_optimizer = torch.optim.SGD(model.parameters(), lr=0.1)\n",
        "\n",
        "epochs=1000\n",
        "history=[]\n",
        "n=len(X)\n",
        "\n",
        "\n",
        "for epoch in range(epochs):\n",
        "  LOSS_sum = 0\n",
        "  for xx, yy in trainloader:\n",
        "    yhat = model(xx)\n",
        "    loss = loss_ftn(yhat,yy)\n",
        "    LOSS_sum = LOSS_sum + loss\n",
        "\n",
        "    # weight 미분값 계산\n",
        "    loss.backward()\n",
        "\n",
        "    # weight update\n",
        "    my_optimizer.step()\n",
        "\n",
        "    # weight grad 초기화\n",
        "    my_optimizer.zero_grad()\n",
        "\n",
        "  history.append(LOSS_sum.item()/n)\n",
        "\n",
        "plt.plot(history)\n"
      ],
      "metadata": {
        "colab": {
          "base_uri": "https://localhost:8080/",
          "height": 448
        },
        "id": "g3GoqoFgRpeo",
        "outputId": "854f5ede-8ff5-4cc8-dc3d-60812187ef03"
      },
      "id": "g3GoqoFgRpeo",
      "execution_count": 47,
      "outputs": [
        {
          "output_type": "execute_result",
          "data": {
            "text/plain": [
              "[<matplotlib.lines.Line2D at 0x79257db0f3a0>]"
            ]
          },
          "metadata": {},
          "execution_count": 47
        },
        {
          "output_type": "display_data",
          "data": {
            "text/plain": [
              "<Figure size 640x480 with 1 Axes>"
            ],
            "image/png": "[encoded data removed]"
          },
          "metadata": {}
        }
      ]
    },
    {
      "cell_type": "code",
      "source": [
        "loss_ftn(model(X),Y) # AIC로 이용 가능"
      ],
      "metadata": {
        "colab": {
          "base_uri": "https://localhost:8080/"
        },
        "id": "zqdD85lqSjt2",
        "outputId": "f6ae7e5f-52cd-4a45-a408-40cd3ad56a11"
      },
      "id": "zqdD85lqSjt2",
      "execution_count": 48,
      "outputs": [
        {
          "output_type": "execute_result",
          "data": {
            "text/plain": [
              "tensor(0.0048, grad_fn=<DivBackward0>)"
            ]
          },
          "metadata": {},
          "execution_count": 48
        }
      ]
    },
    {
      "cell_type": "code",
      "source": [
        "Yhat = model(X)\n",
        "torch.mean((Yhat-Y)**2) # 앞서 train_mse와 유사함\n"
      ],
      "metadata": {
        "colab": {
          "base_uri": "https://localhost:8080/"
        },
        "id": "zoQotF8ES2G9",
        "outputId": "58f125aa-0643-448d-ac0d-1368950e01c1"
      },
      "id": "zoQotF8ES2G9",
      "execution_count": 49,
      "outputs": [
        {
          "output_type": "execute_result",
          "data": {
            "text/plain": [
              "tensor(0.9534, grad_fn=<MeanBackward0>)"
            ]
          },
          "metadata": {},
          "execution_count": 49
        }
      ]
    },
    {
      "cell_type": "markdown",
      "source": [
        "---"
      ],
      "metadata": {
        "id": "l2rAkXVcXaPB"
      },
      "id": "l2rAkXVcXaPB"
    },
    {
      "cell_type": "markdown",
      "source": [
        "# Logistic regression"
      ],
      "metadata": {
        "id": "Atf1DXVUXbL5"
      },
      "id": "Atf1DXVUXbL5"
    },
    {
      "cell_type": "code",
      "source": [
        "\n",
        "sigma = torch.tensor(10.0)\n",
        "def loss_ftn(yhat, y):\n",
        "    p = torch.sigmoid(yhat)  # 시그모이드 함수 적용\n",
        "    return -torch.mean(y * torch.log(p) + (1 - y) * torch.log(1 - p))\n",
        "\n",
        "\n",
        "model = torch.nn.Linear(1,1, bias = True)\n",
        "my_optimizer = torch.optim.SGD(model.parameters(), lr=0.1)\n",
        "\n",
        "epochs=1000\n",
        "history=[]\n",
        "n=len(X)\n",
        "\n",
        "\n",
        "for epoch in range(epochs):\n",
        "  LOSS_sum = 0\n",
        "  for xx, yy in trainloader:\n",
        "    yhat = model(xx)\n",
        "    loss = loss_ftn(yhat,yy)\n",
        "    LOSS_sum =  LOSS_sum + loss\n",
        "\n",
        "    # weight 미분값 계산\n",
        "    loss.backward()\n",
        "\n",
        "    # weight update\n",
        "    my_optimizer.step()\n",
        "\n",
        "    # weight grad 초기화\n",
        "    my_optimizer.zero_grad()\n",
        "\n",
        "  history.append(LOSS_sum.item()/n)\n",
        "\n",
        "plt.plot(history)\n"
      ],
      "metadata": {
        "id": "DsqfohqKXa1k",
        "colab": {
          "base_uri": "https://localhost:8080/",
          "height": 448
        },
        "outputId": "0dfe03db-409f-48ba-f24c-a2abfd2b2d86"
      },
      "id": "DsqfohqKXa1k",
      "execution_count": 52,
      "outputs": [
        {
          "output_type": "execute_result",
          "data": {
            "text/plain": [
              "[<matplotlib.lines.Line2D at 0x79257dac9d80>]"
            ]
          },
          "metadata": {},
          "execution_count": 52
        },
        {
          "output_type": "display_data",
          "data": {
            "text/plain": [
              "<Figure size 640x480 with 1 Axes>"
            ],
            "image/png": "[encoded data removed]"
          },
          "metadata": {}
        }
      ]
    },
    {
      "cell_type": "code",
      "source": [],
      "metadata": {
        "id": "3V0JaPsDXZxD"
      },
      "id": "3V0JaPsDXZxD",
      "execution_count": 50,
      "outputs": []
    }
  ]
}