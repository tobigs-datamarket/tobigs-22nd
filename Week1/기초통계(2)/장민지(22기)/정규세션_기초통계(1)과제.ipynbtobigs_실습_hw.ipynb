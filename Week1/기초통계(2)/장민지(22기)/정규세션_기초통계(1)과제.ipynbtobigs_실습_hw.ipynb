{
  "cells": [
    {
      "cell_type": "markdown",
      "metadata": {
        "colab_type": "text",
        "id": "view-in-github"
      },
      "source": [
        "<a href=\"https://colab.research.google.com/github/tobigs-datamarket/tobigs-22nd/blob/main/tobigs_%E1%84%89%E1%85%B5%E1%86%AF%E1%84%89%E1%85%B3%E1%86%B8_hw.ipynb\" target=\"_parent\"><img src=\"https://colab.research.google.com/assets/colab-badge.svg\" alt=\"Open In Colab\"/></a>"
      ]
    },
    {
      "cell_type": "markdown",
      "id": "Adw-5Rx02ohB",
      "metadata": {
        "id": "Adw-5Rx02ohB"
      },
      "source": [
        "# Pytorch Session 2: Linear regression"
      ]
    },
    {
      "cell_type": "markdown",
      "id": "p6rbgzAEETXo",
      "metadata": {
        "id": "p6rbgzAEETXo"
      },
      "source": [
        "# HW1:\n",
        "𝛽\n",
        "^\n",
        "  계산하기\n",
        "\n",
        "- 데이터:\n",
        "(\n",
        "𝑥\n",
        "𝑖\n",
        ",\n",
        "𝑦\n",
        "𝑖\n",
        ")\n",
        "=\n",
        "[\n",
        "(\n",
        "48\n",
        ",\n",
        "158\n",
        ")\n",
        ",\n",
        "(\n",
        "53\n",
        ",\n",
        "160\n",
        ")\n",
        ",\n",
        "(\n",
        "54\n",
        ",\n",
        "165\n",
        ")\n",
        ",\n",
        "(\n",
        "60\n",
        ",\n",
        "168\n",
        ")\n",
        "]\n",
        "(x\n",
        "i\n",
        "​\n",
        " ,y\n",
        "i\n",
        "​\n",
        " )=[(48,158),(53,160),(54,165),(60,168)]\n",
        "- 목표:\n",
        "𝑦\n",
        "y에 대한 최적의\n",
        "𝛽\n",
        "β값을 계산\n",
        "MSE 정의\n",
        "MSE\n",
        "=\n",
        "1\n",
        "𝑁\n",
        "∑\n",
        "𝑖\n",
        "=\n",
        "1\n",
        "𝑁\n",
        "(\n",
        "𝑦\n",
        "𝑖\n",
        "−\n",
        "𝑦\n",
        "^\n",
        ")\n",
        "2\n",
        "=\n",
        "N\n",
        "1\n",
        "​\n",
        " ∑\n",
        "i=1\n",
        "N\n",
        "​\n",
        " (y\n",
        "i\n",
        "​\n",
        " −\n",
        "y\n",
        "^\n",
        "​\n",
        " )\n",
        "2\n",
        "\n",
        "𝑦\n",
        "^\n",
        "=\n",
        "𝑓\n",
        "(\n",
        "𝑥\n",
        ")\n",
        "=\n",
        "𝑥\n",
        "⋅\n",
        "𝛽\n",
        "y\n",
        "^\n",
        "​\n",
        " =f(x)=x⋅β\n"
      ]
    },
    {
      "cell_type": "markdown",
      "id": "VSq9nbAIFCMh",
      "metadata": {
        "id": "VSq9nbAIFCMh"
      },
      "source": [
        "β=2.8\n",
        "β\n",
        "(0)\n",
        " =0.1\n",
        "𝛽\n",
        "(\n",
        "3\n",
        ")\n",
        "=\n",
        "2.8"
      ]
    },
    {
      "cell_type": "markdown",
      "id": "lcrdX_8IFLN9",
      "metadata": {
        "id": "lcrdX_8IFLN9"
      },
      "source": [
        "# HW2\n",
        "\n",
        "β\n",
        "(3)\n",
        " =2.8"
      ]
    },
    {
      "cell_type": "markdown",
      "id": "qW-5yDTmFQp1",
      "metadata": {
        "id": "qW-5yDTmFQp1"
      },
      "source": [
        "# HW3\n",
        "\n",
        "MLE 최대화 결과:\n",
        "𝜇\n",
        "=\n",
        "2.8"
      ]
    },
    {
      "cell_type": "markdown",
      "id": "1JMZfEMEFUln",
      "metadata": {
        "id": "1JMZfEMEFUln"
      },
      "source": [
        "# HW4\n",
        "\n",
        "수치 최적화를 통한 MLE 추정 결과:\n",
        "𝜇\n",
        "=\n",
        "2.8"
      ]
    },
    {
      "cell_type": "code",
      "execution_count": 1,
      "id": "sZ5KyFvM3bdS",
      "metadata": {
        "id": "sZ5KyFvM3bdS"
      },
      "outputs": [],
      "source": [
        "import torch\n",
        "import numpy as np\n",
        "import pandas as pd\n",
        "import matplotlib.pyplot as plt"
      ]
    },
    {
      "cell_type": "markdown",
      "id": "lYUwt5RBFUS0",
      "metadata": {
        "id": "lYUwt5RBFUS0"
      },
      "source": [
        "## 1. Data Generation:\n"
      ]
    },
    {
      "cell_type": "markdown",
      "id": "Ne4AmwinFUS8",
      "metadata": {
        "id": "Ne4AmwinFUS8"
      },
      "source": [
        "Let us create the following expressions:\n"
      ]
    },
    {
      "cell_type": "markdown",
      "id": "yVMK11q4FUS8",
      "metadata": {
        "id": "yVMK11q4FUS8"
      },
      "source": [
        "$b=-1,w=2$\n",
        "\n",
        "$\\hat{y}=wx+b$\n"
      ]
    },
    {
      "cell_type": "markdown",
      "id": "Ujs1awtUFUS8",
      "metadata": {
        "id": "Ujs1awtUFUS8"
      },
      "source": [
        "First, define the parameters:\n"
      ]
    },
    {
      "cell_type": "code",
      "execution_count": 2,
      "id": "x47lK--O1sri",
      "metadata": {
        "colab": {
          "base_uri": "https://localhost:8080/",
          "height": 466
        },
        "id": "x47lK--O1sri",
        "outputId": "59fd34c0-cc82-4c65-adae-8765c301a721"
      },
      "outputs": [
        {
          "name": "stdout",
          "output_type": "stream",
          "text": [
            "torch.Size([20, 1]) torch.Size([20, 1])\n"
          ]
        },
        {
          "data": {
            "text/plain": [
              "[<matplotlib.lines.Line2D at 0x7f9ef54886a0>]"
            ]
          },
          "execution_count": 2,
          "metadata": {},
          "output_type": "execute_result"
        },
        {
          "data": {
            "image/png": "[encoded data removed]",
            "text/plain": [
              "<Figure size 640x480 with 1 Axes>"
            ]
          },
          "metadata": {},
          "output_type": "display_data"
        }
      ],
      "source": [
        "w0 = torch.tensor(2.0)\n",
        "b0 = torch.tensor(-1.0)\n",
        "\n",
        "torch.manual_seed(2021)\n",
        "X = torch.arange(-3,3, 0.3).view(-1, 1)\n",
        "f = w0*X+b0\n",
        "print(X.shape, f.shape)\n",
        "\n",
        "Y = f + torch.randn(f.shape)\n",
        "\n",
        "import matplotlib.pyplot as plt\n",
        "plt.scatter(X.numpy(),Y.numpy())\n",
        "plt.plot(X.numpy(),f.numpy())"
      ]
    },
    {
      "cell_type": "markdown",
      "id": "9k4yI2P_Htjc",
      "metadata": {
        "id": "9k4yI2P_Htjc"
      },
      "source": [
        "## 2. Linear regression model"
      ]
    },
    {
      "cell_type": "markdown",
      "id": "3FknTBaFIUQj",
      "metadata": {
        "id": "3FknTBaFIUQj"
      },
      "source": [
        "You are given X and Y.\n",
        "\n",
        "Your goal is to find the best linear model to explain the relation between X and Y by minimizing the following\n",
        "\n",
        "$Loss(w, b)=\\sum\\limits_{i=1}^{n}(Y_i-Yhat_i)^2$\n",
        "\n",
        "where\n",
        "\n",
        "$Yhat_i:=X_i*w +b$."
      ]
    },
    {
      "cell_type": "code",
      "execution_count": 3,
      "id": "bTvKiWdFhPBW",
      "metadata": {
        "colab": {
          "base_uri": "https://localhost:8080/",
          "height": 558
        },
        "id": "bTvKiWdFhPBW",
        "outputId": "16d08581-2a61-4300-d35b-c1433e4379f4"
      },
      "outputs": [
        {
          "name": "stderr",
          "output_type": "stream",
          "text": [
            "<ipython-input-3-de90bdbb64d2>:11: UserWarning: To copy construct from a tensor, it is recommended to use sourceTensor.clone().detach() or sourceTensor.clone().detach().requires_grad_(True), rather than torch.tensor(sourceTensor).\n",
            "  w = torch.tensor(torch.randn([1,1]), requires_grad=True)\n",
            "<ipython-input-3-de90bdbb64d2>:12: UserWarning: To copy construct from a tensor, it is recommended to use sourceTensor.clone().detach() or sourceTensor.clone().detach().requires_grad_(True), rather than torch.tensor(sourceTensor).\n",
            "  b = torch.tensor(torch.randn([1,1]), requires_grad=True)\n"
          ]
        },
        {
          "name": "stdout",
          "output_type": "stream",
          "text": [
            "tensor([[-1.2075]], requires_grad=True) tensor([[0.5493]], requires_grad=True)\n"
          ]
        },
        {
          "data": {
            "image/png": "[encoded data removed]",
            "text/plain": [
              "<Figure size 640x480 with 1 Axes>"
            ]
          },
          "metadata": {},
          "output_type": "display_data"
        }
      ],
      "source": [
        "# Yhat을 만드는 함수, X.shape: (n,1), w.shape:(1,1) , b.shape (1,1)\n",
        "def forward(x):\n",
        "    return x * w + b\n",
        "\n",
        "def loss_ftn(yhat, y):\n",
        "    return torch.mean((yhat - y) ** 2)\n",
        "\n",
        "torch.manual_seed(2023)\n",
        "# w, b의 초기점\n",
        "# w와 b는 param 1개이나, X*w를 할건데 이 차원이 [n,1]이 되도록 w를 [1,1]로 shape을 만들어줌\n",
        "w = torch.tensor(torch.randn([1,1]), requires_grad=True)\n",
        "b = torch.tensor(torch.randn([1,1]), requires_grad=True)\n",
        "\n",
        "print(w, b)\n",
        "\n",
        "# batch size 없이 진행\n",
        "history = []\n",
        "lr = 0.1\n",
        "epochs = 100\n",
        "\n",
        "for _ in range(epochs):\n",
        "    yhat = forward(X)\n",
        "    loss = loss_ftn(yhat, Y)\n",
        "\n",
        "    # 미분\n",
        "    loss.backward()\n",
        "\n",
        "    # grad descent\n",
        "    with torch.no_grad():\n",
        "        w.data = w.data - lr * w.grad\n",
        "        b.data = b.data - lr * b.grad\n",
        "\n",
        "    # 미분값 비워줌\n",
        "    w.grad = None\n",
        "    b.grad = None\n",
        "\n",
        "    history.append(loss.item())\n",
        "\n",
        "plt.plot(history)\n",
        "plt.xlabel('Epoch')\n",
        "plt.ylabel('Loss')\n",
        "plt.show()\n"
      ]
    },
    {
      "cell_type": "code",
      "execution_count": 4,
      "id": "72TZpzsZ0E-3",
      "metadata": {
        "colab": {
          "base_uri": "https://localhost:8080/"
        },
        "id": "72TZpzsZ0E-3",
        "outputId": "b95c9a31-e6f6-4057-b5f4-52c27e42ee37"
      },
      "outputs": [
        {
          "name": "stdout",
          "output_type": "stream",
          "text": [
            "tensor([[1.7149]], requires_grad=True) tensor([[-1.1823]], requires_grad=True)\n"
          ]
        }
      ],
      "source": [
        "print(w,b)"
      ]
    },
    {
      "cell_type": "code",
      "execution_count": 5,
      "id": "KJOqgA8Y32Cf",
      "metadata": {
        "colab": {
          "base_uri": "https://localhost:8080/"
        },
        "id": "KJOqgA8Y32Cf",
        "outputId": "50ee5ba8-9cfc-4a6c-af2b-8132fb6c4360"
      },
      "outputs": [
        {
          "data": {
            "text/plain": [
              "tensor(0.9533, grad_fn=<MeanBackward0>)"
            ]
          },
          "execution_count": 5,
          "metadata": {},
          "output_type": "execute_result"
        }
      ],
      "source": [
        "Yhat = forward(X)\n",
        "train_MSE = loss_ftn(Yhat, Y)\n",
        "train_MSE"
      ]
    },
    {
      "cell_type": "code",
      "execution_count": 6,
      "id": "85P6m13x3_fe",
      "metadata": {
        "colab": {
          "base_uri": "https://localhost:8080/"
        },
        "id": "85P6m13x3_fe",
        "outputId": "a03b72a1-de10-4165-b0b4-ea023d4b8c89"
      },
      "outputs": [
        {
          "name": "stdout",
          "output_type": "stream",
          "text": [
            "tensor([[1.7149]], requires_grad=True) tensor([[-1.1823]], requires_grad=True)\n"
          ]
        }
      ],
      "source": [
        "print(w,b)"
      ]
    },
    {
      "cell_type": "markdown",
      "id": "-whmINjP-fqO",
      "metadata": {
        "id": "-whmINjP-fqO"
      },
      "source": [
        "### 2.1 Further consideration:\n",
        "\n",
        "`[1] Pytorch function of `model`: torch.nn.linear`\n",
        "\n",
        "```\n",
        "def model(x):\n",
        "    return x @ beta\n",
        "```\n",
        "can be replaced by  \n",
        "```\n",
        "model = torch.nn.Linear(1, 1, bias=True)\n",
        "```\n",
        "\n",
        "`[2] torch.optim.SGD`\n",
        "\n",
        "Using the following optimizer\n",
        "`my_optimizer = torch.optim.SGD([w,b], lr=0.1)`, we can excute a gradient descent one time by the following command:\n",
        "\n",
        "1> Gradient descent\n",
        "\n",
        "`my_optimizer.step()`\n",
        "\n",
        "which is equivalent with\n",
        "` w.data = w.data-lr*w.grad.data`\n",
        "\n",
        "`b.data = b.data-lr*b.grad.data`\n",
        "\n",
        "2> Making zero-grad before differentiation\n",
        "\n",
        "`my_optimizer.zero_grad()`\n",
        "\n",
        "which is equivalent with\n",
        "\n",
        "`w.grad = None`\n",
        "\n",
        "`b.grad = None`"
      ]
    },
    {
      "cell_type": "markdown",
      "id": "m0Me6ICQCiJV",
      "metadata": {
        "id": "m0Me6ICQCiJV"
      },
      "source": [
        "### Exercise 2.1.1\n",
        "\n",
        "Train the same model above using `torch.optim.SGD` function."
      ]
    },
    {
      "cell_type": "code",
      "execution_count": 7,
      "id": "3BEmRLXKjf5n",
      "metadata": {
        "id": "3BEmRLXKjf5n"
      },
      "outputs": [],
      "source": [
        "def loss_ftn(yhat, y):\n",
        "    return torch.mean( (y-yhat)**2)"
      ]
    },
    {
      "cell_type": "markdown",
      "id": "q1E4OhKnjtaA",
      "metadata": {
        "id": "q1E4OhKnjtaA"
      },
      "source": [
        "#### 데이터 초기화 및 yhat 추정 모델 학습을 위한 optimizer 생성"
      ]
    },
    {
      "cell_type": "code",
      "execution_count": 8,
      "id": "UQKExA9zjnlu",
      "metadata": {
        "colab": {
          "base_uri": "https://localhost:8080/",
          "height": 448
        },
        "id": "UQKExA9zjnlu",
        "outputId": "18ac7311-8144-4135-90c2-026f792349a9"
      },
      "outputs": [
        {
          "data": {
            "text/plain": [
              "[<matplotlib.lines.Line2D at 0x7f9ef174a260>]"
            ]
          },
          "execution_count": 8,
          "metadata": {},
          "output_type": "execute_result"
        },
        {
          "data": {
            "image/png": "[encoded data removed]",
            "text/plain": [
              "<Figure size 640x480 with 1 Axes>"
            ]
          },
          "metadata": {},
          "output_type": "display_data"
        }
      ],
      "source": [
        "# model\n",
        "model = torch.nn.Linear(1,1, bias = True)\n",
        "my_optimizer = torch.optim.SGD(model.parameters(), lr=0.1)\n",
        "\n",
        "history=[]\n",
        "lr=0.1\n",
        "for epoch in range(100):\n",
        "    Yhat = model(X)\n",
        "    loss = loss_ftn(Yhat,Y)\n",
        "\n",
        "    loss.backward()\n",
        "\n",
        "\n",
        "    #w.data = w.data-lr*w.grad.data\n",
        "    #b.data = b.data-lr*b.grad.data\n",
        "    my_optimizer.step()\n",
        "\n",
        "    # w.grad.data = None\n",
        "    # b.grad.data = None\n",
        "    my_optimizer.zero_grad()\n",
        "\n",
        "    history.append(loss.item())\n",
        "\n",
        "\n",
        "plt.plot(history)"
      ]
    },
    {
      "cell_type": "markdown",
      "id": "AJ3i7wkwEFSg",
      "metadata": {
        "id": "AJ3i7wkwEFSg"
      },
      "source": [
        "### hw: Use trainloader and complete process of training"
      ]
    },
    {
      "cell_type": "code",
      "execution_count": 9,
      "id": "xJQGBA18K6eV",
      "metadata": {
        "id": "xJQGBA18K6eV"
      },
      "outputs": [],
      "source": [
        "from torch.utils.data import Dataset, DataLoader, TensorDataset\n",
        "dataset = TensorDataset(X,Y)\n",
        "trainloader=DataLoader(dataset = dataset, batch_size=5, shuffle=True)"
      ]
    },
    {
      "cell_type": "code",
      "execution_count": 10,
      "id": "OPgPuv8u2uD8",
      "metadata": {
        "colab": {
          "base_uri": "https://localhost:8080/",
          "height": 449
        },
        "id": "OPgPuv8u2uD8",
        "outputId": "0b94c452-619d-4677-913c-8cf88d5a4b33"
      },
      "outputs": [
        {
          "data": {
            "image/png": "[encoded data removed]",
            "text/plain": [
              "<Figure size 640x480 with 1 Axes>"
            ]
          },
          "metadata": {},
          "output_type": "display_data"
        }
      ],
      "source": [
        "# model\n",
        "model = torch.nn.Linear(1, 1, bias=True)\n",
        "my_optimizer = torch.optim.SGD(model.parameters(), lr=0.1)\n",
        "\n",
        "epochs = 100\n",
        "history = []\n",
        "n = len(X)\n",
        "\n",
        "for epoch in range(epochs):\n",
        "    LOSS_sum = 0\n",
        "    for xx, yy in trainloader:\n",
        "        yhat = model(xx)\n",
        "        loss = loss_ftn(yhat, yy)\n",
        "        LOSS_sum += loss.item()\n",
        "\n",
        "        loss.backward()\n",
        "\n",
        "        my_optimizer.step()\n",
        "        my_optimizer.zero_grad()\n",
        "\n",
        "    history.append(LOSS_sum / n)\n",
        "\n",
        "plt.plot(history)\n",
        "plt.xlabel('Epoch')\n",
        "plt.ylabel('Loss')\n",
        "plt.show()\n"
      ]
    },
    {
      "cell_type": "code",
      "execution_count": 11,
      "id": "70v5FLt723R_",
      "metadata": {
        "colab": {
          "base_uri": "https://localhost:8080/",
          "height": 448
        },
        "id": "70v5FLt723R_",
        "outputId": "958ee642-0efe-46f7-be1d-1a19aedbb9c4"
      },
      "outputs": [
        {
          "data": {
            "text/plain": [
              "[<matplotlib.lines.Line2D at 0x7f9ef1625210>]"
            ]
          },
          "execution_count": 11,
          "metadata": {},
          "output_type": "execute_result"
        },
        {
          "data": {
            "image/png": "[encoded data removed]",
            "text/plain": [
              "<Figure size 640x480 with 1 Axes>"
            ]
          },
          "metadata": {},
          "output_type": "display_data"
        }
      ],
      "source": [
        "plt.plot(history)"
      ]
    },
    {
      "cell_type": "markdown",
      "id": "j-NMDhg6GLny",
      "metadata": {
        "id": "j-NMDhg6GLny"
      },
      "source": [
        "# predict yhat when x = 3.0"
      ]
    },
    {
      "cell_type": "code",
      "execution_count": 12,
      "id": "KurNFeQFz62R",
      "metadata": {
        "colab": {
          "base_uri": "https://localhost:8080/"
        },
        "id": "KurNFeQFz62R",
        "outputId": "d7219b24-a3cc-4709-d12d-08bfc11f63ba"
      },
      "outputs": [
        {
          "data": {
            "text/plain": [
              "tensor([[3.7567]], grad_fn=<AddmmBackward0>)"
            ]
          },
          "execution_count": 12,
          "metadata": {},
          "output_type": "execute_result"
        }
      ],
      "source": [
        "# m1\n",
        "xxx = torch.tensor([[3.0]])\n",
        "model(xxx)"
      ]
    },
    {
      "cell_type": "code",
      "execution_count": 13,
      "id": "VcibJn3q0CrQ",
      "metadata": {
        "colab": {
          "base_uri": "https://localhost:8080/"
        },
        "id": "VcibJn3q0CrQ",
        "outputId": "73b43649-a4dc-45f5-a47a-f52f4a2a78f8"
      },
      "outputs": [
        {
          "data": {
            "text/plain": [
              "tensor([[3.7567]], grad_fn=<AddBackward0>)"
            ]
          },
          "execution_count": 13,
          "metadata": {},
          "output_type": "execute_result"
        }
      ],
      "source": [
        "# without model\n",
        "\n",
        "# step1. check model's parameter using model.state_dict()\n",
        "W = model.weight\n",
        "b = model.bias\n",
        "xxx @ W + b"
      ]
    },
    {
      "cell_type": "markdown",
      "id": "_VkT3lPhRasP",
      "metadata": {
        "id": "_VkT3lPhRasP"
      },
      "source": [
        "# Loss: log-likehood function\n"
      ]
    },
    {
      "cell_type": "markdown",
      "id": "rJT5bMnBRliW",
      "metadata": {
        "id": "rJT5bMnBRliW"
      },
      "source": [
        "```\n",
        "def loss_ftn(yhat, y):\n",
        "    return torch.mean( (y-yhat)**2)\n",
        "```"
      ]
    },
    {
      "cell_type": "code",
      "execution_count": 14,
      "id": "g3GoqoFgRpeo",
      "metadata": {
        "colab": {
          "base_uri": "https://localhost:8080/",
          "height": 449
        },
        "id": "g3GoqoFgRpeo",
        "outputId": "f878cc17-f991-4882-effb-487f92efffa1"
      },
      "outputs": [
        {
          "data": {
            "image/png": "[encoded data removed]",
            "text/plain": [
              "<Figure size 640x480 with 1 Axes>"
            ]
          },
          "metadata": {},
          "output_type": "display_data"
        }
      ],
      "source": [
        "sigma = torch.tensor(10.0)\n",
        "\n",
        "def loss_ftn(yhat, y):\n",
        "    return torch.mean((y - yhat)**2) / (2 * sigma**2)\n",
        "\n",
        "model = torch.nn.Linear(1, 1, bias=True)\n",
        "my_optimizer = torch.optim.SGD(model.parameters(), lr=0.1)\n",
        "\n",
        "epochs = 1000\n",
        "history = []\n",
        "n = len(X)\n",
        "\n",
        "for epoch in range(epochs):\n",
        "    LOSS_sum = 0\n",
        "    for xx, yy in trainloader:\n",
        "        yhat = model(xx)\n",
        "        loss = loss_ftn(yhat, yy)\n",
        "        LOSS_sum += loss.item()\n",
        "\n",
        "        # weight 미분값 계산\n",
        "        loss.backward()\n",
        "\n",
        "        # weight update\n",
        "        my_optimizer.step()\n",
        "\n",
        "        # weight grad 초기화\n",
        "        my_optimizer.zero_grad()\n",
        "\n",
        "    history.append(LOSS_sum / n)\n",
        "\n",
        "plt.plot(history)\n",
        "plt.xlabel('Epoch')\n",
        "plt.ylabel('Loss')\n",
        "plt.show()\n"
      ]
    },
    {
      "cell_type": "code",
      "execution_count": 15,
      "id": "zqdD85lqSjt2",
      "metadata": {
        "colab": {
          "base_uri": "https://localhost:8080/"
        },
        "id": "zqdD85lqSjt2",
        "outputId": "51999278-c7a0-4c45-a769-352a72fb97f8"
      },
      "outputs": [
        {
          "data": {
            "text/plain": [
              "tensor(0.0048, grad_fn=<DivBackward0>)"
            ]
          },
          "execution_count": 15,
          "metadata": {},
          "output_type": "execute_result"
        }
      ],
      "source": [
        "loss_ftn(model(X),Y) # AIC로 이용 가능"
      ]
    },
    {
      "cell_type": "code",
      "execution_count": null,
      "id": "zoQotF8ES2G9",
      "metadata": {
        "colab": {
          "base_uri": "https://localhost:8080/"
        },
        "id": "zoQotF8ES2G9",
        "outputId": "34915256-4215-4dd7-ccca-3ab3b9122324"
      },
      "outputs": [
        {
          "data": {
            "text/plain": [
              "tensor(0.9534, grad_fn=<MeanBackward0>)"
            ]
          },
          "execution_count": 73,
          "metadata": {},
          "output_type": "execute_result"
        }
      ],
      "source": [
        "Yhat = model(X)\n",
        "torch.mean((Yhat-Y)**2) # 앞서 train_mse와 유사함\n"
      ]
    },
    {
      "cell_type": "markdown",
      "id": "l2rAkXVcXaPB",
      "metadata": {
        "id": "l2rAkXVcXaPB"
      },
      "source": [
        "---"
      ]
    },
    {
      "cell_type": "markdown",
      "id": "Atf1DXVUXbL5",
      "metadata": {
        "id": "Atf1DXVUXbL5"
      },
      "source": [
        "# Logistic regression"
      ]
    },
    {
      "cell_type": "code",
      "execution_count": 16,
      "id": "DsqfohqKXa1k",
      "metadata": {
        "colab": {
          "base_uri": "https://localhost:8080/",
          "height": 449
        },
        "id": "DsqfohqKXa1k",
        "outputId": "339dcc84-cc7d-4957-c216-55beb84c984e"
      },
      "outputs": [
        {
          "data": {
            "image/png": "[encoded data removed]",
            "text/plain": [
              "<Figure size 640x480 with 1 Axes>"
            ]
          },
          "metadata": {},
          "output_type": "display_data"
        }
      ],
      "source": [
        "sigma = torch.tensor(10.0)\n",
        "\n",
        "def loss_ftn(yhat, y):\n",
        "    # log-likelihood when f(y) = p^y * (1-p)^(1-y)\n",
        "    return -torch.mean(torch.log(yhat) * y + torch.log(1 - yhat) * (1 - y))\n",
        "\n",
        "model = torch.nn.Linear(1, 1, bias=True)\n",
        "my_optimizer = torch.optim.SGD(model.parameters(), lr=0.1)\n",
        "\n",
        "epochs = 1000\n",
        "history = []\n",
        "n = len(X)\n",
        "\n",
        "for epoch in range(epochs):\n",
        "    LOSS_sum = 0\n",
        "    for xx, yy in trainloader:\n",
        "        yhat = model(xx)\n",
        "        loss = loss_ftn(yhat, yy)\n",
        "        LOSS_sum += loss.item()\n",
        "\n",
        "        # weight 미분값 계산\n",
        "        loss.backward()\n",
        "\n",
        "        # weight update\n",
        "        my_optimizer.step()\n",
        "\n",
        "        # weight grad 초기화\n",
        "        my_optimizer.zero_grad()\n",
        "\n",
        "    history.append(LOSS_sum / n)\n",
        "\n",
        "plt.plot(history)\n",
        "plt.xlabel('Epoch')\n",
        "plt.ylabel('Loss')\n",
        "plt.show()"
      ]
    },
    {
      "cell_type": "code",
      "execution_count": null,
      "id": "3V0JaPsDXZxD",
      "metadata": {
        "id": "3V0JaPsDXZxD"
      },
      "outputs": [],
      "source": []
    }
  ],
  "metadata": {
    "colab": {
      "include_colab_link": true,
      "machine_shape": "hm",
      "provenance": [],
      "toc_visible": true
    },
    "kernelspec": {
      "display_name": "Python 3",
      "name": "python3"
    },
    "language_info": {
      "name": "python"
    }
  },
  "nbformat": 4,
  "nbformat_minor": 5
}
